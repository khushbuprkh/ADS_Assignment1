{
 "cells": [
  {
   "cell_type": "markdown",
   "metadata": {
    "collapsed": false
   },
   "source": [
    "# Data Wrangling\n",
    "    \n",
    "\n"
   ]
  },
  {
   "cell_type": "markdown",
   "metadata": {},
   "source": [
    "## 1.Importing all the packages, modules"
   ]
  },
  {
   "cell_type": "code",
   "execution_count": 1,
   "metadata": {
    "collapsed": false
   },
   "outputs": [
    {
     "name": "stdout",
     "output_type": "stream",
     "text": [
      "Step1 -Import Done \n"
     ]
    }
   ],
   "source": [
    "import pandas as pd\n",
    "import numpy as np\n",
    "import matplotlib.pyplot as plt\n",
    "import operator\n",
    "import csv\n",
    "import re\n",
    "from scipy import interpolate\n",
    "flag = 0\n",
    "tempFullDataList =[]\n",
    "tempSODDataList =[]\n",
    "\n",
    "print(\"Step1 -Import Done \")"
   ]
  },
  {
   "cell_type": "markdown",
   "metadata": {},
   "source": [
    "## 2.Loading CSV File from the Config file Link "
   ]
  },
  {
   "cell_type": "code",
   "execution_count": 2,
   "metadata": {
    "collapsed": false
   },
   "outputs": [
    {
     "name": "stdout",
     "output_type": "stream",
     "text": [
      "Step 2 Loading CSV File Done\n"
     ]
    }
   ],
   "source": [
    "file= \"https://www.ncei.noaa.gov/orders/cdo/996279.csv\"\n",
    "file1='test.csv'\n",
    "a=pd.read_csv(file1,sep=',', error_bad_lines=False, index_col=False, dtype='unicode')\n",
    "for i,x in a.iterrows():\n",
    "         if(x['REPORTTPYE'] != 'SOD'):\n",
    "                tempFullDataList.append(x)\n",
    "         elif(x['REPORTTPYE'] =='SOD'):\n",
    "                tempSODDataList.append(x)\n",
    "                \n",
    "print(\"Step 2 Loading CSV File Done\")\n",
    "\n",
    "\n",
    "    "
   ]
  },
  {
   "cell_type": "markdown",
   "metadata": {},
   "source": [
    "## 3.Missing Value Analysis"
   ]
  },
  {
   "cell_type": "markdown",
   "metadata": {},
   "source": [
    "## Filling the SkyCondition Data\n",
    "<h4>A. We are filling the missing value with the value present in the previous hour , as it is the most approximate sky condition </h4>"
   ]
  },
  {
   "cell_type": "code",
   "execution_count": 3,
   "metadata": {
    "collapsed": false,
    "scrolled": true
   },
   "outputs": [
    {
     "name": "stdout",
     "output_type": "stream",
     "text": [
      "Sky Condition\n"
     ]
    }
   ],
   "source": [
    "def missingSkyConditionData():\n",
    "\tfor i in range(len(tempFullDataList)):\n",
    "\t\ttry:\n",
    "\t\t\ta = int(tempFullDataList[i][7])\n",
    "\t\t\tprev = tempFullDataList[i-1][7].split()\n",
    "\t\t\tif 'CLR:00' not in prev:\n",
    "\t\t\t\tprevStr = prev[0]+ ' '+ tempFullDataList[i][7]\n",
    "\t\t\telse:\n",
    "\t\t\t\tprevStr = tempFullDataList[i][7]\n",
    "\n",
    "\t\t\ttempFullDataList[i][7] = prevStr\n",
    "\t\texcept:\n",
    "\t\t\tcontinue\n",
    "\n",
    "temp = missingSkyConditionData()\n",
    "\n",
    "print(\"Sky Condition\")\n",
    "       \n",
    "    \n",
    "\n"
   ]
  },
  {
   "cell_type": "markdown",
   "metadata": {},
   "source": [
    "<h4> B. Removing Alphabets present at the end of the Numbers present in the Columns </h4>"
   ]
  },
  {
   "cell_type": "markdown",
   "metadata": {},
   "source": [
    "<h4>Defining the Functions </h4>"
   ]
  },
  {
   "cell_type": "code",
   "execution_count": 4,
   "metadata": {
    "collapsed": false
   },
   "outputs": [
    {
     "name": "stdout",
     "output_type": "stream",
     "text": [
      "Functions Defined\n"
     ]
    }
   ],
   "source": [
    "def removeAlphabetsAndInterpolate(specificColumn):\n",
    "    non = re.compile(r'[^\\d.+-]+')\n",
    "    tempp=[] \n",
    "    for i in specificColumn:\n",
    "        tempp.append(str(non.sub('',str(i))))\n",
    "    g =pd.to_numeric(tempp)\n",
    "    visi = pd.DataFrame(g)\n",
    "    visi=visi.interpolate(method='spline', order=2)\n",
    "    return visi[0]\n",
    "\n",
    "def removeAlphabetsOnly(specificColumn):\n",
    "    non = re.compile(r'[^\\d.+-]')\n",
    "    temp=[]\n",
    "    for i in specificColumn:\n",
    "        temp.append(str(non.sub('',str(i))))\n",
    "    g =pd.to_numeric(temp)\n",
    "    output= pd.DataFrame(g)\n",
    "    return output\n",
    "\n",
    "print(\"Functions Defined\")\n"
   ]
  },
  {
   "cell_type": "markdown",
   "metadata": {},
   "source": [
    "## Invoking the declared functions from above. \n",
    "### Notice we have chose interpolation function - Spline of degree 2 from the Scipy package to make up the missing values as smooth as possible on the assumption\n",
    "<p>Hourly Precipitation with Tag \"T\"  denotes <0.01 , so we have assumed 0.005 to make the column all numeric values</p>\n",
    "<p>Wind Gust Speed is assumed 0 miles/hr where ever there are NAN in the column</p>\n"
   ]
  },
  {
   "cell_type": "markdown",
   "metadata": {},
   "source": [
    "## Moving Hourly Data seperately to analyse"
   ]
  },
  {
   "cell_type": "code",
   "execution_count": null,
   "metadata": {
    "collapsed": false
   },
   "outputs": [],
   "source": [
    "\n",
    "def interpolateMissingData():\n",
    "    dataf = pd.DataFrame(tempFullDataList)\n",
    "    dataf[\"HOURLYVISIBILITY\"].update(removeAlphabetsAndInterpolate(dataf[\"HOURLYVISIBILITY\"]))\n",
    "    dataf[\"HOURLYDRYBULBTEMPF\"].update(removeAlphabetsAndInterpolate(dataf[\"HOURLYDRYBULBTEMPF\"]))\n",
    "    dataf[\"HOURLYDRYBULBTEMPC\"].update(removeAlphabetsAndInterpolate(dataf[\"HOURLYDRYBULBTEMPC\"]))\n",
    "    dataf[\"HOURLYWETBULBTEMPF\"].update(removeAlphabetsAndInterpolate(dataf[\"HOURLYWETBULBTEMPF\"]))\n",
    "    dataf[\"HOURLYWETBULBTEMPC\"].update(removeAlphabetsAndInterpolate(dataf[\"HOURLYWETBULBTEMPC\"]))\n",
    "    dataf[\"HOURLYDewPointTempF\"].update(removeAlphabetsAndInterpolate(dataf[\"HOURLYDewPointTempF\"]))\n",
    "    dataf[\"HOURLYDewPointTempC\"].update(removeAlphabetsAndInterpolate(dataf[\"HOURLYDewPointTempC\"]))\n",
    "    dataf[\"HOURLYRelativeHumidity\"].update(removeAlphabetsAndInterpolate(dataf[\"HOURLYRelativeHumidity\"]))\n",
    "    dataf[\"HOURLYWindSpeed\"].update(removeAlphabetsAndInterpolate(dataf[\"HOURLYWindSpeed\"]))\n",
    "    dataf[\"HOURLYWindDirection\"].update(removeAlphabetsAndInterpolate(dataf[\"HOURLYWindDirection\"]))\n",
    "    dataf[\"HOURLYWindGustSpeed\"].fillna(0) \n",
    "    dataf[\"HOURLYStationPressure\"].update(removeAlphabetsAndInterpolate(dataf[\"HOURLYStationPressure\"]))\n",
    "    dataf[\"HOURLYPressureTendency\"].update(removeAlphabetsOnly(dataf[\"HOURLYPressureTendency\"]))\n",
    "    dataf[\"HOURLYPressureChange\"].update(removeAlphabetsOnly(dataf[\"HOURLYPressureChange\"]))\n",
    "    dataf[\"HOURLYSeaLevelPressure\"].update(removeAlphabetsAndInterpolate(dataf[\"HOURLYSeaLevelPressure\"]))\n",
    "    dataf[\"HOURLYPrecip\"].update(removeAlphabetsAndInterpolate(dataf[\"HOURLYPrecip\"]).fillna(0.005))\n",
    "    dataf[\"HOURLYAltimeterSetting\"].update(removeAlphabetsAndInterpolate(dataf[\"HOURLYAltimeterSetting\"]))\n",
    "    dataf[\"DAILYPrecip\"].update(removeAlphabetsAndInterpolate(dataf[\"DAILYPrecip\"]))\n",
    "    return dataf\n",
    "\n",
    "gal = interpolateMissingData()\n",
    "gal.to_csv(\"Extra.csv\")\n",
    "\n",
    "print(\"Interpolation of data done\")"
   ]
  },
  {
   "cell_type": "code",
   "execution_count": 5,
   "metadata": {
    "collapsed": false
   },
   "outputs": [
    {
     "name": "stdout",
     "output_type": "stream",
     "text": [
      "Hello\n"
     ]
    }
   ],
   "source": [
    "print(\"Hello\")"
   ]
  },
  {
   "cell_type": "code",
   "execution_count": 10,
   "metadata": {
    "collapsed": false
   },
   "outputs": [
    {
     "ename": "ValueError",
     "evalue": "too many values to unpack",
     "output_type": "error",
     "traceback": [
      "\u001b[1;31m---------------------------------------------------------------------------\u001b[0m",
      "\u001b[1;31mValueError\u001b[0m                                Traceback (most recent call last)",
      "\u001b[1;32m<ipython-input-10-1b38c2edd775>\u001b[0m in \u001b[0;36m<module>\u001b[1;34m()\u001b[0m\n\u001b[0;32m      5\u001b[0m \u001b[1;33m\u001b[0m\u001b[0m\n\u001b[0;32m      6\u001b[0m \u001b[0marr\u001b[0m \u001b[1;33m=\u001b[0m \u001b[0mpd\u001b[0m\u001b[1;33m.\u001b[0m\u001b[0mDataFrame\u001b[0m\u001b[1;33m(\u001b[0m\u001b[0mar\u001b[0m\u001b[1;33m)\u001b[0m\u001b[1;33m\u001b[0m\u001b[0m\n\u001b[1;32m----> 7\u001b[1;33m \u001b[1;32mfor\u001b[0m \u001b[0mi\u001b[0m\u001b[1;33m,\u001b[0m\u001b[0mr\u001b[0m \u001b[1;32min\u001b[0m \u001b[0mdataf\u001b[0m\u001b[1;33m:\u001b[0m\u001b[1;33m\u001b[0m\u001b[0m\n\u001b[0m\u001b[0;32m      8\u001b[0m     \u001b[0mr\u001b[0m\u001b[1;33m[\u001b[0m\u001b[1;34m\"HOURLYVISIBILITY\"\u001b[0m\u001b[1;33m]\u001b[0m\u001b[1;33m[\u001b[0m\u001b[0mi\u001b[0m\u001b[1;33m]\u001b[0m\u001b[1;33m\u001b[0m\u001b[0m\n\u001b[0;32m      9\u001b[0m \u001b[1;33m\u001b[0m\u001b[0m\n",
      "\u001b[1;31mValueError\u001b[0m: too many values to unpack"
     ]
    }
   ],
   "source": [
    "dataf = pd.DataFrame(tempFullDataList)\n",
    "# print(dataf[\"HOURLYVISIBILITY\"])\n",
    "\n",
    "ar=removeAlphabetsAndInterpolate(dataf[\"HOURLYVISIBILITY\"])\n",
    "\n",
    "\n"
   ]
  },
  {
   "cell_type": "markdown",
   "metadata": {},
   "source": [
    "<h4>Moving SOD Data  to seperate DataFrame to analyse</H4>"
   ]
  },
  {
   "cell_type": "code",
   "execution_count": 18,
   "metadata": {
    "collapsed": false
   },
   "outputs": [
    {
     "data": {
      "text/plain": [
       "0        10.000000\n",
       "1        10.000000\n",
       "2        10.250987\n",
       "3        10.000000\n",
       "4        10.536445\n",
       "5        12.000000\n",
       "6        10.000000\n",
       "7        10.834447\n",
       "8        10.000000\n",
       "9        13.000000\n",
       "10       10.000000\n",
       "11       10.000000\n",
       "12       10.983958\n",
       "13       10.000000\n",
       "14       10.000000\n",
       "15       15.000000\n",
       "16       10.000000\n",
       "17       10.699517\n",
       "18       10.000000\n",
       "19       10.000000\n",
       "20       10.320557\n",
       "21       10.000000\n",
       "22       10.000000\n",
       "23       10.000000\n",
       "24       10.000000\n",
       "25        9.000000\n",
       "26       10.000000\n",
       "27       10.000000\n",
       "28        9.000000\n",
       "29        9.000000\n",
       "           ...    \n",
       "63828          NaN\n",
       "63829          NaN\n",
       "63830          NaN\n",
       "63831          NaN\n",
       "63832          NaN\n",
       "63833          NaN\n",
       "63834          NaN\n",
       "63835          NaN\n",
       "63836          NaN\n",
       "63837          NaN\n",
       "63838          NaN\n",
       "63839          NaN\n",
       "63840          NaN\n",
       "63841          NaN\n",
       "63842          NaN\n",
       "63843          NaN\n",
       "63844          NaN\n",
       "63845          NaN\n",
       "63846          NaN\n",
       "63847          NaN\n",
       "63848          NaN\n",
       "63849          NaN\n",
       "63850          NaN\n",
       "63851          NaN\n",
       "63852          NaN\n",
       "63853          NaN\n",
       "63854          NaN\n",
       "63855          NaN\n",
       "63856          NaN\n",
       "63857          NaN\n",
       "Name: HOURLYVISIBILITY, dtype: float64"
      ]
     },
     "execution_count": 18,
     "metadata": {},
     "output_type": "execute_result"
    }
   ],
   "source": [
    "\n",
    "# for i,r in dataf:\n",
    "#     r[\"HOURLYVISIBILITY\"][i]\n",
    "\n",
    "\n",
    "\n",
    "for i,x in dataf.iterrows():\n",
    "    x[\"HOURLYVISIBILITY\"]=0\n",
    "\n",
    "dataf[\"HOURLYVISIBILITY\"]\n",
    "        "
   ]
  },
  {
   "cell_type": "code",
   "execution_count": 103,
   "metadata": {
    "collapsed": false
   },
   "outputs": [
    {
     "name": "stdout",
     "output_type": "stream",
     "text": [
      "Interpolation of data done\n"
     ]
    }
   ],
   "source": [
    "def interpolateMissingSODData():\n",
    "    dataf = pd.DataFrame(tempSODDataList)\n",
    "    dataf[\"DAILYMaximumDryBulbTemp\"]       = removeAlphabetsAndInterpolate(dataf[\"DAILYMaximumDryBulbTemp\"])\n",
    "    dataf[\"DAILYMinimumDryBulbTemp\"]     = removeAlphabetsAndInterpolate(dataf[\"DAILYMinimumDryBulbTemp\"])\n",
    "    dataf[\"DAILYAverageDryBulbTemp\"]     = removeAlphabetsAndInterpolate(dataf[\"DAILYAverageDryBulbTemp\"])\n",
    "    dataf[\"DAILYDeptFromNormalAverageTemp\"]     = removeAlphabetsAndInterpolate(dataf[\"DAILYDeptFromNormalAverageTemp\"])\n",
    "    dataf[\"DAILYHeatingDegreeDays\"]     = removeAlphabetsAndInterpolate(dataf[\"DAILYHeatingDegreeDays\"])\n",
    "    dataf[\"DAILYCoolingDegreeDays\"]     = removeAlphabetsAndInterpolate(dataf[\"DAILYCoolingDegreeDays\"])\n",
    "    dataf[\"DAILYPrecip\"]     = removeAlphabetsAndInterpolate(dataf[\"DAILYPrecip\"])\n",
    "    dataf[\"DAILYAverageStationPressure\"]     = removeAlphabetsAndInterpolate(dataf[\"DAILYAverageStationPressure\"])\n",
    "    dataf[\"DAILYAverageWindSpeed\"]     = removeAlphabetsAndInterpolate(dataf[\"DAILYAverageWindSpeed\"])\n",
    "    dataf[\"DAILYPeakWindSpeed\"]     = removeAlphabetsAndInterpolate(dataf[\"DAILYPeakWindSpeed\"])\n",
    "    dataf[\"PeakWindDirection\"]     = removeAlphabetsAndInterpolate(dataf[\"PeakWindDirection\"])\n",
    "    dataf[\"DAILYSustainedWindSpeed\"]     = removeAlphabetsAndInterpolate(dataf[\"DAILYSustainedWindSpeed\"])\n",
    "    dataf[\"DAILYSustainedWindDirection\"]     = removeAlphabetsAndInterpolate(dataf[\"DAILYSustainedWindDirection\"])\n",
    "    return dataf\n",
    "\n",
    "interpolateMissingSODData()\n",
    "print(\"Interpolation of data done\")"
   ]
  },
  {
   "cell_type": "markdown",
   "metadata": {},
   "source": [
    "## Extracting the Monthly Data Seperately to analyse"
   ]
  },
  {
   "cell_type": "code",
   "execution_count": 104,
   "metadata": {
    "collapsed": false
   },
   "outputs": [],
   "source": [
    "temp = a[\"DATE\"]\n",
    "from calendar import monthrange\n",
    "import calendar\n",
    "\n",
    "\n",
    "tempSODMonthlyDataList =[]\n",
    "\n",
    "for m in tempSODDataList:\n",
    "    datee = datetime.datetime.strptime((m[\"DATE\"].split()[0]), \"%Y-%m-%d\")\n",
    "    if(calendar.monthrange(datee.year,datee.month)[1]==datee.day):\n",
    "        tempSODMonthlyDataList.append(m)\n",
    "\n",
    "monthData =pd.DataFrame(tempSODMonthlyDataList)\n",
    "monthData.to_csv(\"xxx.csv\")"
   ]
  },
  {
   "cell_type": "markdown",
   "metadata": {},
   "source": [
    "### Interpolating the missing data : Removing the junks (alphabets) present at the end of the number  "
   ]
  },
  {
   "cell_type": "code",
   "execution_count": 126,
   "metadata": {
    "collapsed": false
   },
   "outputs": [
    {
     "data": {
      "text/plain": [
       "23519   NaN\n",
       "24686   NaN\n",
       "25799   NaN\n",
       "27042   NaN\n",
       "28218   NaN\n",
       "29534   NaN\n",
       "30740   NaN\n",
       "31778   NaN\n",
       "32804   NaN\n",
       "33780   NaN\n",
       "34910   NaN\n",
       "36157   NaN\n",
       "37237   NaN\n",
       "38462   NaN\n",
       "39652   NaN\n",
       "40856   NaN\n",
       "42117   NaN\n",
       "43288   NaN\n",
       "44377   NaN\n",
       "45394   NaN\n",
       "46395   NaN\n",
       "47450   NaN\n",
       "48489   NaN\n",
       "49536   NaN\n",
       "50668   NaN\n",
       "51874   NaN\n",
       "52982   NaN\n",
       "54139   NaN\n",
       "55217   NaN\n",
       "56206   NaN\n",
       "57290   NaN\n",
       "58301   NaN\n",
       "59281   NaN\n",
       "60410   NaN\n",
       "61570   NaN\n",
       "62568   NaN\n",
       "63858   NaN\n",
       "Name: MonthlyMaximumTemp, dtype: float64"
      ]
     },
     "execution_count": 126,
     "metadata": {},
     "output_type": "execute_result"
    }
   ],
   "source": [
    "def interpolateMissingSODMonthlyData():\n",
    "    mdataf = pd.DataFrame(tempSODMonthlyDataList)\n",
    "    mdataf[\"MonthlyMaximumTemp\"]       = removeAlphabetsAndInterpolate(mdataf[\"MonthlyMaximumTemp\"])\n",
    "#     dataf[\"MonthlyMinimumTemp\"]     = removeAlphabetsAndInterpolate(dataf[\"MonthlyMinimumTemp\"])\n",
    "#     dataf[\"MonthlyMeanTemp\"]     = removeAlphabetsAndInterpolate(dataf[\"MonthlyMeanTemp\"])\n",
    "#     dataf[\"MonthlyStationPressure\"]     = removeAlphabetsAndInterpolate(dataf[\"MonthlyStationPressure\"])\n",
    "#     dataf[\"MonthlySeaLevelPressure\"]     = removeAlphabetsAndInterpolate(dataf[\"MonthlySeaLevelPressure\"])\n",
    "#     dataf[\"MonthlyDeptFromNormalMaximumTemp\"]     = removeAlphabetsAndInterpolate(dataf[\"MonthlyDeptFromNormalMaximumTemp\"])\n",
    "#     dataf[\"MonthlyDeptFromNormalMinimumTemp\"]     = removeAlphabetsAndInterpolate(dataf[\"MonthlyDeptFromNormalMinimumTemp\"])\n",
    "#     dataf[\"MonthlyDeptFromNormalAverageTemp\"]     = removeAlphabetsAndInterpolate(dataf[\"MonthlyDeptFromNormalAverageTemp\"])\n",
    "#     dataf[\"MonthlyDeptFromNormalPrecip\"]     = removeAlphabetsAndInterpolate(dataf[\"MonthlyDeptFromNormalPrecip\"])\n",
    "#     dataf[\"MonthlyTotalLiquidPrecip\"]     = removeAlphabetsAndInterpolate(dataf[\"MonthlyTotalLiquidPrecip\"])\n",
    "#     dataf[\"MonthlyTotalHeatingDegreeDays\"]     = removeAlphabetsAndInterpolate(dataf[\"MonthlyTotalHeatingDegreeDays\"])\n",
    "#     dataf[\"MonthlyTotalCoolingDegreeDays\"]     = removeAlphabetsAndInterpolate(dataf[\"MonthlyTotalCoolingDegreeDays\"])\n",
    "#     dataf[\"MonthlyDeptFromNormalHeatingDD\"]     = removeAlphabetsAndInterpolate(dataf[\"MonthlyDeptFromNormalHeatingDD\"])\n",
    "#     dataf[\"MonthlyDeptFromNormalCoolingDD\"]     = removeAlphabetsAndInterpolate(dataf[\"MonthlyDeptFromNormalCoolingDD\"])\n",
    "    return mdataf\n",
    "\n",
    "monthWiseData = interpolateMissingSODMonthlyData()\n",
    "monthWiseData.to_csv(\"yyy.csv\")\n",
    "monthWiseData[\"MonthlyMaximumTemp\"]"
   ]
  },
  {
   "cell_type": "code",
   "execution_count": 132,
   "metadata": {
    "collapsed": false
   },
   "outputs": [
    {
     "data": {
      "text/plain": [
       "23519   NaN\n",
       "24686   NaN\n",
       "25799   NaN\n",
       "27042   NaN\n",
       "28218   NaN\n",
       "29534   NaN\n",
       "30740   NaN\n",
       "31778   NaN\n",
       "32804   NaN\n",
       "33780   NaN\n",
       "34910   NaN\n",
       "36157   NaN\n",
       "37237   NaN\n",
       "38462   NaN\n",
       "39652   NaN\n",
       "40856   NaN\n",
       "42117   NaN\n",
       "43288   NaN\n",
       "44377   NaN\n",
       "45394   NaN\n",
       "46395   NaN\n",
       "47450   NaN\n",
       "48489   NaN\n",
       "49536   NaN\n",
       "50668   NaN\n",
       "51874   NaN\n",
       "52982   NaN\n",
       "54139   NaN\n",
       "55217   NaN\n",
       "56206   NaN\n",
       "57290   NaN\n",
       "58301   NaN\n",
       "59281   NaN\n",
       "60410   NaN\n",
       "61570   NaN\n",
       "62568   NaN\n",
       "63858   NaN\n",
       "Name: MonthlyMaximumTemp, dtype: float64"
      ]
     },
     "execution_count": 132,
     "metadata": {},
     "output_type": "execute_result"
    }
   ],
   "source": [
    "\n",
    "mdataf = pd.DataFrame(tempSODMonthlyDataList)\n",
    "# mdataf[\"MonthlyMaximumTemp\"] \n",
    "# removeAlphabetsAndInterpolate(mdataf[\"MonthlyMaximumTemp\"])\n",
    "bar = removeAlphabetsAndInterpolate(mdataf[\"MonthlyMaximumTemp\"])\n",
    "mdataf[\"MonthlyMaximumTemp\"] =bar\n",
    "mdataf[\"MonthlyMaximumTemp\"]"
   ]
  },
  {
   "cell_type": "code",
   "execution_count": 89,
   "metadata": {
    "collapsed": false
   },
   "outputs": [
    {
     "data": {
      "text/html": [
       "\n",
       "    <div class=\"bk-banner\">\n",
       "        <a href=\"http://bokeh.pydata.org\" target=\"_blank\" class=\"bk-logo bk-logo-small bk-logo-notebook\"></a>\n",
       "        <span id=\"a5099949-3ccd-49f5-839c-151fdd17a802\">Loading BokehJS ...</span>\n",
       "    </div>"
      ]
     },
     "metadata": {},
     "output_type": "display_data"
    },
    {
     "data": {
      "application/javascript": [
       "\n",
       "(function(global) {\n",
       "  function now() {\n",
       "    return new Date();\n",
       "  }\n",
       "\n",
       "  if (typeof (window._bokeh_onload_callbacks) === \"undefined\") {\n",
       "    window._bokeh_onload_callbacks = [];\n",
       "  }\n",
       "\n",
       "  function run_callbacks() {\n",
       "    window._bokeh_onload_callbacks.forEach(function(callback) { callback() });\n",
       "    delete window._bokeh_onload_callbacks\n",
       "    console.info(\"Bokeh: all callbacks have finished\");\n",
       "  }\n",
       "\n",
       "  function load_libs(js_urls, callback) {\n",
       "    window._bokeh_onload_callbacks.push(callback);\n",
       "    if (window._bokeh_is_loading > 0) {\n",
       "      console.log(\"Bokeh: BokehJS is being loaded, scheduling callback at\", now());\n",
       "      return null;\n",
       "    }\n",
       "    if (js_urls == null || js_urls.length === 0) {\n",
       "      run_callbacks();\n",
       "      return null;\n",
       "    }\n",
       "    console.log(\"Bokeh: BokehJS not loaded, scheduling load and callback at\", now());\n",
       "    window._bokeh_is_loading = js_urls.length;\n",
       "    for (var i = 0; i < js_urls.length; i++) {\n",
       "      var url = js_urls[i];\n",
       "      var s = document.createElement('script');\n",
       "      s.src = url;\n",
       "      s.async = false;\n",
       "      s.onreadystatechange = s.onload = function() {\n",
       "        window._bokeh_is_loading--;\n",
       "        if (window._bokeh_is_loading === 0) {\n",
       "          console.log(\"Bokeh: all BokehJS libraries loaded\");\n",
       "          run_callbacks()\n",
       "        }\n",
       "      };\n",
       "      s.onerror = function() {\n",
       "        console.warn(\"failed to load library \" + url);\n",
       "      };\n",
       "      console.log(\"Bokeh: injecting script tag for BokehJS library: \", url);\n",
       "      document.getElementsByTagName(\"head\")[0].appendChild(s);\n",
       "    }\n",
       "  };\n",
       "\n",
       "  var js_urls = ['https://cdn.pydata.org/bokeh/release/bokeh-0.11.1.min.js', 'https://cdn.pydata.org/bokeh/release/bokeh-widgets-0.11.1.min.js', 'https://cdn.pydata.org/bokeh/release/bokeh-compiler-0.11.1.min.js'];\n",
       "\n",
       "  var inline_js = [\n",
       "    function(Bokeh) {\n",
       "      Bokeh.set_log_level(\"info\");\n",
       "    },\n",
       "    \n",
       "    function(Bokeh) {\n",
       "      Bokeh.$(\"#a5099949-3ccd-49f5-839c-151fdd17a802\").text(\"BokehJS successfully loaded\");\n",
       "    },\n",
       "    function(Bokeh) {\n",
       "      console.log(\"Bokeh: injecting CSS: https://cdn.pydata.org/bokeh/release/bokeh-0.11.1.min.css\");\n",
       "      Bokeh.embed.inject_css(\"https://cdn.pydata.org/bokeh/release/bokeh-0.11.1.min.css\");\n",
       "      console.log(\"Bokeh: injecting CSS: https://cdn.pydata.org/bokeh/release/bokeh-widgets-0.11.1.min.css\");\n",
       "      Bokeh.embed.inject_css(\"https://cdn.pydata.org/bokeh/release/bokeh-widgets-0.11.1.min.css\");\n",
       "    }\n",
       "  ];\n",
       "\n",
       "  function run_inline_js() {\n",
       "    for (var i = 0; i < inline_js.length; i++) {\n",
       "      inline_js[i](window.Bokeh);\n",
       "    }\n",
       "  }\n",
       "\n",
       "  if (window._bokeh_is_loading === 0) {\n",
       "    console.log(\"Bokeh: BokehJS loaded, going straight to plotting\");\n",
       "    run_inline_js();\n",
       "  } else {\n",
       "    load_libs(js_urls, function() {\n",
       "      console.log(\"Bokeh: BokehJS plotting callback run at\", now());\n",
       "      run_inline_js();\n",
       "    });\n",
       "  }\n",
       "}(this));"
      ]
     },
     "metadata": {},
     "output_type": "display_data"
    },
    {
     "data": {
      "text/html": [
       "\n",
       "\n",
       "    <div class=\"plotdiv\" id=\"a9542983-7c87-458a-896b-8f64891675f6\"></div>\n",
       "<script type=\"text/javascript\">\n",
       "  \n",
       "  (function(global) {\n",
       "    function now() {\n",
       "      return new Date();\n",
       "    }\n",
       "  \n",
       "    if (typeof (window._bokeh_onload_callbacks) === \"undefined\") {\n",
       "      window._bokeh_onload_callbacks = [];\n",
       "    }\n",
       "  \n",
       "    function run_callbacks() {\n",
       "      window._bokeh_onload_callbacks.forEach(function(callback) { callback() });\n",
       "      delete window._bokeh_onload_callbacks\n",
       "      console.info(\"Bokeh: all callbacks have finished\");\n",
       "    }\n",
       "  \n",
       "    function load_libs(js_urls, callback) {\n",
       "      window._bokeh_onload_callbacks.push(callback);\n",
       "      if (window._bokeh_is_loading > 0) {\n",
       "        console.log(\"Bokeh: BokehJS is being loaded, scheduling callback at\", now());\n",
       "        return null;\n",
       "      }\n",
       "      if (js_urls == null || js_urls.length === 0) {\n",
       "        run_callbacks();\n",
       "        return null;\n",
       "      }\n",
       "      console.log(\"Bokeh: BokehJS not loaded, scheduling load and callback at\", now());\n",
       "      window._bokeh_is_loading = js_urls.length;\n",
       "      for (var i = 0; i < js_urls.length; i++) {\n",
       "        var url = js_urls[i];\n",
       "        var s = document.createElement('script');\n",
       "        s.src = url;\n",
       "        s.async = false;\n",
       "        s.onreadystatechange = s.onload = function() {\n",
       "          window._bokeh_is_loading--;\n",
       "          if (window._bokeh_is_loading === 0) {\n",
       "            console.log(\"Bokeh: all BokehJS libraries loaded\");\n",
       "            run_callbacks()\n",
       "          }\n",
       "        };\n",
       "        s.onerror = function() {\n",
       "          console.warn(\"failed to load library \" + url);\n",
       "        };\n",
       "        console.log(\"Bokeh: injecting script tag for BokehJS library: \", url);\n",
       "        document.getElementsByTagName(\"head\")[0].appendChild(s);\n",
       "      }\n",
       "    };var element = document.getElementById(\"a9542983-7c87-458a-896b-8f64891675f6\");\n",
       "    if (element == null) {\n",
       "      console.log(\"Bokeh: ERROR: autoload.js configured with elementid 'a9542983-7c87-458a-896b-8f64891675f6' but no matching script tag was found. \")\n",
       "      return false;\n",
       "    }\n",
       "  \n",
       "    var js_urls = [];\n",
       "  \n",
       "    var inline_js = [\n",
       "      function(Bokeh) {\n",
       "        Bokeh.$(function() {\n",
       "            var docs_json = {\"0f42e4b7-209f-491a-be95-d939bac52a60\":{\"roots\":{\"references\":[{\"attributes\":{\"formatter\":{\"id\":\"553670f8-7b02-4f1d-9299-507679354cde\",\"type\":\"BasicTickFormatter\"},\"plot\":{\"id\":\"5e2da453-14de-45ce-b945-0be28ce4822a\",\"subtype\":\"Figure\",\"type\":\"Plot\"},\"ticker\":{\"id\":\"16082b8b-f805-4319-8e64-80419d4c47a1\",\"type\":\"BasicTicker\"}},\"id\":\"fed58aae-de75-49eb-bc27-e644563448c2\",\"type\":\"LinearAxis\"},{\"attributes\":{\"fill_color\":{\"value\":\"#1f77b4\"},\"line_color\":{\"value\":\"#1f77b4\"},\"x\":{\"field\":\"x\"},\"y\":{\"field\":\"y\"}},\"id\":\"7a2b7e73-ecca-44c0-a539-4fd4e45e9198\",\"type\":\"X\"},{\"attributes\":{\"plot\":{\"id\":\"332dbd63-d28e-4674-b228-2da1f9bdd921\",\"subtype\":\"Figure\",\"type\":\"Plot\"}},\"id\":\"2dc8e21f-89ce-4ec3-965e-607eaaebbc83\",\"type\":\"WheelZoomTool\"},{\"attributes\":{\"axis_label\":\"fertility (children per woman)\",\"formatter\":{\"id\":\"d1205bf9-b979-4ada-b667-a32a09256588\",\"type\":\"BasicTickFormatter\"},\"plot\":{\"id\":\"5c61c417-040a-4638-915f-73ca23cee923\",\"subtype\":\"Figure\",\"type\":\"Plot\"},\"ticker\":{\"id\":\"f111f976-0aea-41fd-9bc6-abffd8f0ef3d\",\"type\":\"BasicTicker\"}},\"id\":\"a806c2cb-f7f8-47dc-8a07-01a2ea6108ca\",\"type\":\"LinearAxis\"},{\"attributes\":{\"plot\":{\"id\":\"c1dd04a9-e724-4330-97f1-809957079a5b\",\"subtype\":\"Figure\",\"type\":\"Plot\"}},\"id\":\"4c5a985d-1290-4632-8256-eec55ee2f993\",\"type\":\"PreviewSaveTool\"},{\"attributes\":{\"below\":[{\"id\":\"ad54a484-4ff8-4fc8-b766-b517fcb11732\",\"type\":\"LinearAxis\"}],\"left\":[{\"id\":\"13d214ac-b63e-436b-90ad-dcd2ad8eed07\",\"type\":\"LinearAxis\"}],\"plot_width\":400,\"renderers\":[{\"id\":\"ad54a484-4ff8-4fc8-b766-b517fcb11732\",\"type\":\"LinearAxis\"},{\"id\":\"951e930d-3b42-4c48-a289-32564ccc5c5e\",\"type\":\"Grid\"},{\"id\":\"13d214ac-b63e-436b-90ad-dcd2ad8eed07\",\"type\":\"LinearAxis\"},{\"id\":\"9ff7e16c-b180-4c0c-907e-01ca1b6f4ad4\",\"type\":\"Grid\"},{\"id\":\"b9a3c66c-11d0-436e-960b-bd4fbe05e4fa\",\"type\":\"BoxAnnotation\"}],\"tool_events\":{\"id\":\"3e873abb-1ed1-4bc9-a517-e86d126a56d5\",\"type\":\"ToolEvents\"},\"tools\":[{\"id\":\"23e6e350-1295-4116-bda6-44f2b07f15ff\",\"type\":\"PanTool\"},{\"id\":\"208e62d7-2573-4719-beba-18997380ea10\",\"type\":\"BoxZoomTool\"}],\"x_range\":{\"id\":\"e4cd8da0-82bb-4471-b2a2-3ae0791e2958\",\"type\":\"DataRange1d\"},\"y_range\":{\"id\":\"3ce8c0be-5d81-4f81-931d-84f6bc2d9808\",\"type\":\"DataRange1d\"}},\"id\":\"55671300-c71f-4199-94be-094f62e7f3fb\",\"subtype\":\"Figure\",\"type\":\"Plot\"},{\"attributes\":{\"fill_alpha\":{\"value\":0.1},\"fill_color\":{\"value\":\"#1f77b4\"},\"line_alpha\":{\"value\":0.1},\"line_color\":{\"value\":\"#1f77b4\"},\"x\":{\"field\":\"x\"},\"y\":{\"field\":\"y\"}},\"id\":\"379d3d9c-c66e-4e65-8d5b-bb631ad55067\",\"type\":\"Circle\"},{\"attributes\":{\"callback\":null},\"id\":\"6fabd794-a011-4d9b-9684-7bb6d2d800a6\",\"type\":\"DataRange1d\"},{\"attributes\":{\"plot\":{\"id\":\"7ed2b023-cb5f-4f20-9d6b-851806f98a64\",\"subtype\":\"Figure\",\"type\":\"Plot\"}},\"id\":\"8a448dfa-a46b-45ff-b4be-ccd676e5c88b\",\"type\":\"PanTool\"},{\"attributes\":{},\"id\":\"4a49b520-505f-4fa7-aadd-d8c2907feb5a\",\"type\":\"BasicTickFormatter\"},{\"attributes\":{\"formatter\":{\"id\":\"82791c86-8508-4e45-ad48-7af4ca89e692\",\"type\":\"BasicTickFormatter\"},\"plot\":{\"id\":\"7ed2b023-cb5f-4f20-9d6b-851806f98a64\",\"subtype\":\"Figure\",\"type\":\"Plot\"},\"ticker\":{\"id\":\"37d36f64-7ad8-44aa-9fc4-94be6441db95\",\"type\":\"BasicTicker\"}},\"id\":\"328f96cc-6824-4ffa-a989-d66d9bd7e2af\",\"type\":\"LinearAxis\"},{\"attributes\":{\"data_source\":{\"id\":\"6edb8484-7145-4929-99c5-beb5ab889573\",\"type\":\"ColumnDataSource\"},\"glyph\":{\"id\":\"24a0ebbe-0eb9-488f-9a8a-5b3e4dc1ed55\",\"type\":\"X\"},\"hover_glyph\":null,\"nonselection_glyph\":{\"id\":\"daccc0d2-4898-43c7-8e1b-56f4edcae76f\",\"type\":\"X\"},\"selection_glyph\":null},\"id\":\"c535688f-9d63-4b8e-9e45-159f0822c7a7\",\"type\":\"GlyphRenderer\"},{\"attributes\":{\"data_source\":{\"id\":\"74d0c792-b0bf-4879-9056-61f318859718\",\"type\":\"ColumnDataSource\"},\"glyph\":{\"id\":\"7b57b540-8208-46a3-b18a-f13cf3a337ab\",\"type\":\"X\"},\"hover_glyph\":null,\"nonselection_glyph\":{\"id\":\"b3581da3-116b-47e3-83a8-4208603d129e\",\"type\":\"X\"},\"selection_glyph\":null},\"id\":\"d904834a-4e94-46c6-9740-810e6932f815\",\"type\":\"GlyphRenderer\"},{\"attributes\":{\"formatter\":{\"id\":\"d95998c1-120e-45a1-ac2d-0e54cf2670fd\",\"type\":\"BasicTickFormatter\"},\"plot\":{\"id\":\"920a7fcc-ef4e-4514-bcaa-946c40f0d926\",\"subtype\":\"Figure\",\"type\":\"Plot\"},\"ticker\":{\"id\":\"c5e4687a-afd5-4efc-801c-b3bd606f650c\",\"type\":\"BasicTicker\"}},\"id\":\"72ed521d-4b57-4346-a836-27008d23ef88\",\"type\":\"LinearAxis\"},{\"attributes\":{\"dimension\":1,\"plot\":{\"id\":\"920a7fcc-ef4e-4514-bcaa-946c40f0d926\",\"subtype\":\"Figure\",\"type\":\"Plot\"},\"ticker\":{\"id\":\"29fd6455-ee71-4505-b2d4-56be0fd5539d\",\"type\":\"BasicTicker\"}},\"id\":\"80a5332c-c8cc-4877-bdb7-fc79988c0d2d\",\"type\":\"Grid\"},{\"attributes\":{},\"id\":\"62ae9422-7e31-47f3-b445-934df56d8bce\",\"type\":\"BasicTicker\"},{\"attributes\":{\"callback\":null},\"id\":\"fa76b06a-5457-422a-8026-d6cc29259deb\",\"type\":\"DataRange1d\"},{\"attributes\":{\"bottom_units\":\"screen\",\"fill_alpha\":{\"value\":0.5},\"fill_color\":{\"value\":\"lightgrey\"},\"left_units\":\"screen\",\"level\":\"overlay\",\"line_alpha\":{\"value\":1.0},\"line_color\":{\"value\":\"black\"},\"line_dash\":[4,4],\"line_width\":{\"value\":2},\"plot\":null,\"render_mode\":\"css\",\"right_units\":\"screen\",\"top_units\":\"screen\"},\"id\":\"b9a3c66c-11d0-436e-960b-bd4fbe05e4fa\",\"type\":\"BoxAnnotation\"},{\"attributes\":{\"callback\":null,\"column_names\":[\"y\",\"x\"],\"data\":{\"x\":[1,2,4,77,5,4,4],\"y\":[4,5,6,4,3,6,7,6]}},\"id\":\"ef5b859c-fde8-43ae-820e-c31815d3363d\",\"type\":\"ColumnDataSource\"},{\"attributes\":{},\"id\":\"ddf7dc90-02af-4e3c-b7b5-51df5cdab19f\",\"type\":\"BasicTickFormatter\"},{\"attributes\":{\"callback\":null},\"id\":\"f280407f-420a-45df-92a8-a8007dcff24c\",\"type\":\"DataRange1d\"},{\"attributes\":{\"dimension\":1,\"plot\":{\"id\":\"7ed2b023-cb5f-4f20-9d6b-851806f98a64\",\"subtype\":\"Figure\",\"type\":\"Plot\"},\"ticker\":{\"id\":\"37d36f64-7ad8-44aa-9fc4-94be6441db95\",\"type\":\"BasicTicker\"}},\"id\":\"fb21242e-a1eb-420d-b8fb-8f608f89c6d3\",\"type\":\"Grid\"},{\"attributes\":{},\"id\":\"c8ee79d0-eeaa-4853-8aca-0d07485a817d\",\"type\":\"BasicTickFormatter\"},{\"attributes\":{\"data_source\":{\"id\":\"73bc97de-186d-4e21-a00e-ebdb803aa63d\",\"type\":\"ColumnDataSource\"},\"glyph\":{\"id\":\"bfe5b7c6-5e17-4d13-9f2d-b43c5d3ba59a\",\"type\":\"Circle\"},\"hover_glyph\":null,\"nonselection_glyph\":{\"id\":\"379d3d9c-c66e-4e65-8d5b-bb631ad55067\",\"type\":\"Circle\"},\"selection_glyph\":null},\"id\":\"04a6e1c5-6b00-47c6-ae74-6342831277ad\",\"type\":\"GlyphRenderer\"},{\"attributes\":{\"callback\":null},\"id\":\"2ad2db28-aaf2-459c-8ba2-dcb7a60f74ca\",\"type\":\"DataRange1d\"},{\"attributes\":{\"fill_alpha\":{\"value\":0.1},\"fill_color\":{\"value\":\"#1f77b4\"},\"line_alpha\":{\"value\":0.1},\"line_color\":{\"value\":\"#1f77b4\"},\"x\":{\"field\":\"x\"},\"y\":{\"field\":\"y\"}},\"id\":\"daccc0d2-4898-43c7-8e1b-56f4edcae76f\",\"type\":\"X\"},{\"attributes\":{\"fill_color\":{\"value\":\"#1f77b4\"},\"line_color\":{\"value\":\"#1f77b4\"},\"x\":{\"field\":\"x\"},\"y\":{\"field\":\"y\"}},\"id\":\"c40d9798-d738-433a-a073-c3142863e0e0\",\"type\":\"Circle\"},{\"attributes\":{\"data_source\":{\"id\":\"ef5b859c-fde8-43ae-820e-c31815d3363d\",\"type\":\"ColumnDataSource\"},\"glyph\":{\"id\":\"c40d9798-d738-433a-a073-c3142863e0e0\",\"type\":\"Circle\"},\"hover_glyph\":null,\"nonselection_glyph\":{\"id\":\"9ab67aec-be59-4da8-9a69-027a173b08aa\",\"type\":\"Circle\"},\"selection_glyph\":null},\"id\":\"6e26c2dd-072e-4de6-a3e3-e40a8adcae0b\",\"type\":\"GlyphRenderer\"},{\"attributes\":{\"plot\":{\"id\":\"04f384aa-115e-4023-be4b-7ca7652b145f\",\"subtype\":\"Figure\",\"type\":\"Plot\"}},\"id\":\"38522079-b684-4358-9939-84dda607bb0c\",\"type\":\"PreviewSaveTool\"},{\"attributes\":{\"data_source\":{\"id\":\"49db9606-5a24-4ac7-8fcf-0c6e0dfc9739\",\"type\":\"ColumnDataSource\"},\"glyph\":{\"id\":\"5ff9a232-347d-4e67-940a-fb10103cda87\",\"type\":\"Circle\"},\"hover_glyph\":null,\"nonselection_glyph\":{\"id\":\"94351b79-9913-41dd-8dd5-cdc96f9e9f24\",\"type\":\"Circle\"},\"selection_glyph\":null},\"id\":\"6366bc9f-fa66-43da-a39e-932d82334d07\",\"type\":\"GlyphRenderer\"},{\"attributes\":{\"fill_color\":{\"value\":\"#1f77b4\"},\"line_color\":{\"value\":\"#1f77b4\"},\"x\":{\"field\":\"x\"},\"y\":{\"field\":\"y\"}},\"id\":\"24a0ebbe-0eb9-488f-9a8a-5b3e4dc1ed55\",\"type\":\"X\"},{\"attributes\":{\"below\":[{\"id\":\"a806c2cb-f7f8-47dc-8a07-01a2ea6108ca\",\"type\":\"LinearAxis\"}],\"left\":[{\"id\":\"fdbb60b9-417f-4b0e-9f4c-cca333d984a0\",\"type\":\"LinearAxis\"}],\"renderers\":[{\"id\":\"a806c2cb-f7f8-47dc-8a07-01a2ea6108ca\",\"type\":\"LinearAxis\"},{\"id\":\"4f0ba27b-5c5e-4023-a1c3-b7257b0c3b59\",\"type\":\"Grid\"},{\"id\":\"fdbb60b9-417f-4b0e-9f4c-cca333d984a0\",\"type\":\"LinearAxis\"},{\"id\":\"1625648c-531a-4cc2-b2cc-a3c799900799\",\"type\":\"Grid\"},{\"id\":\"b8e98707-51cb-48d5-b419-92305bcb5095\",\"type\":\"BoxAnnotation\"}],\"tool_events\":{\"id\":\"0716e2ce-9e3f-4bd7-963e-dee193f9fd78\",\"type\":\"ToolEvents\"},\"tools\":[{\"id\":\"d786fa8d-2244-40c5-a8d5-549d90758659\",\"type\":\"PanTool\"},{\"id\":\"9b5661de-9678-42b9-8de7-9f5640e9eb2a\",\"type\":\"WheelZoomTool\"},{\"id\":\"e671a781-79ce-48c7-93c6-1d0adac0efa9\",\"type\":\"BoxZoomTool\"},{\"id\":\"38c3d60c-adfd-4aa8-9004-567f50c16da4\",\"type\":\"PreviewSaveTool\"},{\"id\":\"b91ec62d-6046-4a02-a71e-9e8395aeadf8\",\"type\":\"ResizeTool\"},{\"id\":\"c5b3df49-16d9-41ac-b9c3-6f850a28aa4d\",\"type\":\"ResetTool\"},{\"id\":\"95f1f315-ca4d-451c-a193-6154f3ee9119\",\"type\":\"HelpTool\"}],\"x_range\":{\"id\":\"6508b185-305a-4530-91d6-bb022820650c\",\"type\":\"DataRange1d\"},\"y_range\":{\"id\":\"7daa5b08-45f3-483f-b975-b85a65f4d178\",\"type\":\"DataRange1d\"}},\"id\":\"5c61c417-040a-4638-915f-73ca23cee923\",\"subtype\":\"Figure\",\"type\":\"Plot\"},{\"attributes\":{},\"id\":\"ba9915d5-e764-4825-9ea7-4650607ed17c\",\"type\":\"BasicTickFormatter\"},{\"attributes\":{\"axis_label\":\"female_literacy (% population)\",\"formatter\":{\"id\":\"5a209795-0c6a-46ce-b058-2539088a9bc4\",\"type\":\"BasicTickFormatter\"},\"plot\":{\"id\":\"04f384aa-115e-4023-be4b-7ca7652b145f\",\"subtype\":\"Figure\",\"type\":\"Plot\"},\"ticker\":{\"id\":\"64ac2f3e-4b27-49ed-91a6-aeaa265dccaf\",\"type\":\"BasicTicker\"}},\"id\":\"601c534e-6a5f-451a-919f-31d0827ac208\",\"type\":\"LinearAxis\"},{\"attributes\":{},\"id\":\"9bf7e65f-e0d3-43c1-80a2-59dd33e706a3\",\"type\":\"ToolEvents\"},{\"attributes\":{\"plot\":{\"id\":\"3263db1d-fe6b-4c50-b9f3-1c3dbbe69a28\",\"subtype\":\"Figure\",\"type\":\"Plot\"}},\"id\":\"e9ea4512-177b-4e62-85e3-a36514a585ec\",\"type\":\"PanTool\"},{\"attributes\":{\"plot\":{\"id\":\"920a7fcc-ef4e-4514-bcaa-946c40f0d926\",\"subtype\":\"Figure\",\"type\":\"Plot\"}},\"id\":\"24471ea7-8e7c-4695-982e-3636e616109b\",\"type\":\"PanTool\"},{\"attributes\":{\"formatter\":{\"id\":\"ba9915d5-e764-4825-9ea7-4650607ed17c\",\"type\":\"BasicTickFormatter\"},\"plot\":{\"id\":\"1719a04e-3e3b-4c34-b6fc-40eb89066d2c\",\"subtype\":\"Figure\",\"type\":\"Plot\"},\"ticker\":{\"id\":\"a6b84da6-4370-40b3-82c5-572deb246c4b\",\"type\":\"BasicTicker\"}},\"id\":\"3e9e7835-269c-48f5-bc64-bc726595ac13\",\"type\":\"LinearAxis\"},{\"attributes\":{\"dimension\":1,\"plot\":{\"id\":\"eb9fee0e-58cb-4643-8d69-7fd4c1da6d28\",\"subtype\":\"Figure\",\"type\":\"Plot\"},\"ticker\":{\"id\":\"33ece4e0-38ef-4e20-8fd0-e50b824576da\",\"type\":\"BasicTicker\"}},\"id\":\"f17bb809-0d49-4cd2-9eb3-e549c1ce599a\",\"type\":\"Grid\"},{\"attributes\":{\"fill_alpha\":{\"value\":0.1},\"fill_color\":{\"value\":\"#1f77b4\"},\"line_alpha\":{\"value\":0.1},\"line_color\":{\"value\":\"#1f77b4\"},\"x\":{\"field\":\"x\"},\"y\":{\"field\":\"y\"}},\"id\":\"b1c6610d-5d30-4e42-ae48-b2363e56fa57\",\"type\":\"Circle\"},{\"attributes\":{\"plot\":{\"id\":\"332dbd63-d28e-4674-b228-2da1f9bdd921\",\"subtype\":\"Figure\",\"type\":\"Plot\"},\"ticker\":{\"id\":\"59255863-b22c-447b-9f48-220e829265e4\",\"type\":\"BasicTicker\"}},\"id\":\"6ae0e069-7202-479f-8412-667d2c9f7272\",\"type\":\"Grid\"},{\"attributes\":{\"fill_color\":{\"value\":\"#1f77b4\"},\"line_color\":{\"value\":\"#1f77b4\"},\"x\":{\"field\":\"x\"},\"y\":{\"field\":\"y\"}},\"id\":\"f82d07d4-c7ac-4091-b8e9-46c8a4528a24\",\"type\":\"Circle\"},{\"attributes\":{\"formatter\":{\"id\":\"8b3e9327-4cd0-428c-9a21-162f2a2c1314\",\"type\":\"BasicTickFormatter\"},\"plot\":{\"id\":\"3263db1d-fe6b-4c50-b9f3-1c3dbbe69a28\",\"subtype\":\"Figure\",\"type\":\"Plot\"},\"ticker\":{\"id\":\"94afccfc-0bf9-4cb3-a54a-8f5da0c13612\",\"type\":\"BasicTicker\"}},\"id\":\"1b853e67-b26e-41d0-881e-340267791813\",\"type\":\"LinearAxis\"},{\"attributes\":{\"overlay\":{\"id\":\"6b8b52fd-4b16-4ed8-baa3-a3eccc3ef44c\",\"type\":\"BoxAnnotation\"},\"plot\":{\"id\":\"7ed2b023-cb5f-4f20-9d6b-851806f98a64\",\"subtype\":\"Figure\",\"type\":\"Plot\"}},\"id\":\"cb954da5-6e32-4477-996f-e0c1dbaff558\",\"type\":\"BoxZoomTool\"},{\"attributes\":{\"plot\":{\"id\":\"efd3aaa8-f4c5-4dad-b32c-3d4582835523\",\"subtype\":\"Figure\",\"type\":\"Plot\"}},\"id\":\"2bad506b-de5a-4b47-add6-1e8db7875404\",\"type\":\"ResizeTool\"},{\"attributes\":{},\"id\":\"a6b84da6-4370-40b3-82c5-572deb246c4b\",\"type\":\"BasicTicker\"},{\"attributes\":{\"callback\":null},\"id\":\"e3501983-d316-4c65-aa4b-4d5ddf45f2bb\",\"type\":\"DataRange1d\"},{\"attributes\":{},\"id\":\"16082b8b-f805-4319-8e64-80419d4c47a1\",\"type\":\"BasicTicker\"},{\"attributes\":{\"plot\":{\"id\":\"5c61c417-040a-4638-915f-73ca23cee923\",\"subtype\":\"Figure\",\"type\":\"Plot\"}},\"id\":\"9b5661de-9678-42b9-8de7-9f5640e9eb2a\",\"type\":\"WheelZoomTool\"},{\"attributes\":{\"plot\":{\"id\":\"efd3aaa8-f4c5-4dad-b32c-3d4582835523\",\"subtype\":\"Figure\",\"type\":\"Plot\"}},\"id\":\"72b25c96-a694-48d2-974b-8205e01d3c4d\",\"type\":\"HelpTool\"},{\"attributes\":{\"formatter\":{\"id\":\"83329f4e-d101-406d-81ce-db3823ac3693\",\"type\":\"BasicTickFormatter\"},\"plot\":{\"id\":\"eb9fee0e-58cb-4643-8d69-7fd4c1da6d28\",\"subtype\":\"Figure\",\"type\":\"Plot\"},\"ticker\":{\"id\":\"5db7b4c4-fe7b-4176-89d9-1daf228dc56a\",\"type\":\"BasicTicker\"}},\"id\":\"d2c1dd03-6a9f-4dab-8068-5639dbe70aa3\",\"type\":\"LinearAxis\"},{\"attributes\":{\"plot\":{\"id\":\"3263db1d-fe6b-4c50-b9f3-1c3dbbe69a28\",\"subtype\":\"Figure\",\"type\":\"Plot\"},\"ticker\":{\"id\":\"31e2d75f-31b6-4c5b-b002-015c147be877\",\"type\":\"BasicTicker\"}},\"id\":\"8103362a-fcd9-4114-bc5a-525b63cb1502\",\"type\":\"Grid\"},{\"attributes\":{},\"id\":\"29fd6455-ee71-4505-b2d4-56be0fd5539d\",\"type\":\"BasicTicker\"},{\"attributes\":{\"dimension\":1,\"plot\":{\"id\":\"04f384aa-115e-4023-be4b-7ca7652b145f\",\"subtype\":\"Figure\",\"type\":\"Plot\"},\"ticker\":{\"id\":\"64ac2f3e-4b27-49ed-91a6-aeaa265dccaf\",\"type\":\"BasicTicker\"}},\"id\":\"5e844b36-791c-4241-8fe7-866a4c264b4a\",\"type\":\"Grid\"},{\"attributes\":{\"callback\":null},\"id\":\"f7992827-1423-4778-a451-371403f77342\",\"type\":\"DataRange1d\"},{\"attributes\":{},\"id\":\"d95998c1-120e-45a1-ac2d-0e54cf2670fd\",\"type\":\"BasicTickFormatter\"},{\"attributes\":{\"axis_label\":\"female_literacy (% population)\",\"formatter\":{\"id\":\"86b6a770-8ae0-4ee9-ab02-575cbc9afcb2\",\"type\":\"BasicTickFormatter\"},\"plot\":{\"id\":\"c1dd04a9-e724-4330-97f1-809957079a5b\",\"subtype\":\"Figure\",\"type\":\"Plot\"},\"ticker\":{\"id\":\"bf8cd9f2-dc13-4e40-8a45-2f0f8e9b3fa1\",\"type\":\"BasicTicker\"}},\"id\":\"0d940458-d073-4c83-a0af-7a3b58404133\",\"type\":\"LinearAxis\"},{\"attributes\":{\"callback\":null},\"id\":\"0b58687e-dae4-43cd-a054-6a7c677c4f9a\",\"type\":\"DataRange1d\"},{\"attributes\":{\"below\":[{\"id\":\"7bc9c0f4-cfd0-4767-a4fb-073ea0fe904b\",\"type\":\"LinearAxis\"}],\"left\":[{\"id\":\"c7115c9a-b74d-415e-b697-5de166a197c0\",\"type\":\"LinearAxis\"}],\"renderers\":[{\"id\":\"7bc9c0f4-cfd0-4767-a4fb-073ea0fe904b\",\"type\":\"LinearAxis\"},{\"id\":\"7c0f35f9-2c01-4c3f-8a59-749458dc76ca\",\"type\":\"Grid\"},{\"id\":\"c7115c9a-b74d-415e-b697-5de166a197c0\",\"type\":\"LinearAxis\"},{\"id\":\"435197b9-3152-46b9-a11d-384b28b88c62\",\"type\":\"Grid\"},{\"id\":\"aa8665af-b1dd-4f60-be14-c807f70b448e\",\"type\":\"BoxAnnotation\"},{\"id\":\"5cad33e3-2bd7-45ad-9a13-781cf680cc7f\",\"type\":\"GlyphRenderer\"},{\"id\":\"d904834a-4e94-46c6-9740-810e6932f815\",\"type\":\"GlyphRenderer\"}],\"tool_events\":{\"id\":\"dbe5a232-1e7d-4c93-b676-2874145d4161\",\"type\":\"ToolEvents\"},\"tools\":[{\"id\":\"e95c6e9a-3d9e-47ce-9bfd-36b82772cdbd\",\"type\":\"PanTool\"},{\"id\":\"8122311d-8fe7-4d05-88b0-e9959931e3dd\",\"type\":\"WheelZoomTool\"},{\"id\":\"60bf72f1-f21a-4c83-8ade-32c9afa3511c\",\"type\":\"BoxZoomTool\"},{\"id\":\"52f4aa15-a76b-42a2-9c50-543328a6525a\",\"type\":\"PreviewSaveTool\"},{\"id\":\"2bad506b-de5a-4b47-add6-1e8db7875404\",\"type\":\"ResizeTool\"},{\"id\":\"079a13a1-c336-4b80-a4b6-8a905afa6aca\",\"type\":\"ResetTool\"},{\"id\":\"72b25c96-a694-48d2-974b-8205e01d3c4d\",\"type\":\"HelpTool\"}],\"x_range\":{\"id\":\"bea203b3-53d6-464c-9c44-b2c684df281a\",\"type\":\"DataRange1d\"},\"y_range\":{\"id\":\"24e4d397-4be1-4b77-a8bc-1c459d2f6806\",\"type\":\"DataRange1d\"}},\"id\":\"efd3aaa8-f4c5-4dad-b32c-3d4582835523\",\"subtype\":\"Figure\",\"type\":\"Plot\"},{\"attributes\":{\"plot\":{\"id\":\"5c61c417-040a-4638-915f-73ca23cee923\",\"subtype\":\"Figure\",\"type\":\"Plot\"}},\"id\":\"b91ec62d-6046-4a02-a71e-9e8395aeadf8\",\"type\":\"ResizeTool\"},{\"attributes\":{\"plot\":{\"id\":\"c1dd04a9-e724-4330-97f1-809957079a5b\",\"subtype\":\"Figure\",\"type\":\"Plot\"}},\"id\":\"4ba2187f-9af3-4995-a077-0add35d306bf\",\"type\":\"PanTool\"},{\"attributes\":{},\"id\":\"64ac2f3e-4b27-49ed-91a6-aeaa265dccaf\",\"type\":\"BasicTicker\"},{\"attributes\":{\"callback\":null},\"id\":\"24e4d397-4be1-4b77-a8bc-1c459d2f6806\",\"type\":\"DataRange1d\"},{\"attributes\":{\"plot\":{\"id\":\"04f384aa-115e-4023-be4b-7ca7652b145f\",\"subtype\":\"Figure\",\"type\":\"Plot\"}},\"id\":\"5c4bf691-8c3a-4aed-8f1e-c5e8fc0c45a0\",\"type\":\"PanTool\"},{\"attributes\":{\"bottom_units\":\"screen\",\"fill_alpha\":{\"value\":0.5},\"fill_color\":{\"value\":\"lightgrey\"},\"left_units\":\"screen\",\"level\":\"overlay\",\"line_alpha\":{\"value\":1.0},\"line_color\":{\"value\":\"black\"},\"line_dash\":[4,4],\"line_width\":{\"value\":2},\"plot\":null,\"render_mode\":\"css\",\"right_units\":\"screen\",\"top_units\":\"screen\"},\"id\":\"f5ef0af4-1c78-4d16-8389-54cb387d95ae\",\"type\":\"BoxAnnotation\"},{\"attributes\":{},\"id\":\"28d7ef27-ce16-45c4-80e3-a23bdf523881\",\"type\":\"BasicTicker\"},{\"attributes\":{},\"id\":\"c5e4687a-afd5-4efc-801c-b3bd606f650c\",\"type\":\"BasicTicker\"},{\"attributes\":{},\"id\":\"1befe7a8-269b-4939-a9da-def21a9bac80\",\"type\":\"BasicTicker\"},{\"attributes\":{\"bottom_units\":\"screen\",\"fill_alpha\":{\"value\":0.5},\"fill_color\":{\"value\":\"lightgrey\"},\"left_units\":\"screen\",\"level\":\"overlay\",\"line_alpha\":{\"value\":1.0},\"line_color\":{\"value\":\"black\"},\"line_dash\":[4,4],\"line_width\":{\"value\":2},\"plot\":null,\"render_mode\":\"css\",\"right_units\":\"screen\",\"top_units\":\"screen\"},\"id\":\"6b94a3d1-4025-40f5-9711-2e3c3e1f5c79\",\"type\":\"BoxAnnotation\"},{\"attributes\":{\"axis_label\":\"fertility (children per woman)\",\"formatter\":{\"id\":\"670604f6-d5a3-4554-bbf7-083e59820d24\",\"type\":\"BasicTickFormatter\"},\"plot\":{\"id\":\"332dbd63-d28e-4674-b228-2da1f9bdd921\",\"subtype\":\"Figure\",\"type\":\"Plot\"},\"ticker\":{\"id\":\"59255863-b22c-447b-9f48-220e829265e4\",\"type\":\"BasicTicker\"}},\"id\":\"1beb6b1b-85d9-43a6-8cdc-6757ec382972\",\"type\":\"LinearAxis\"},{\"attributes\":{\"dimension\":1,\"plot\":{\"id\":\"efd3aaa8-f4c5-4dad-b32c-3d4582835523\",\"subtype\":\"Figure\",\"type\":\"Plot\"},\"ticker\":{\"id\":\"ef4f0a7b-52f6-4fc8-885b-b6658570df2a\",\"type\":\"BasicTicker\"}},\"id\":\"435197b9-3152-46b9-a11d-384b28b88c62\",\"type\":\"Grid\"},{\"attributes\":{\"formatter\":{\"id\":\"ad327580-fc3d-422b-b976-d6376c5cd43a\",\"type\":\"BasicTickFormatter\"},\"plot\":{\"id\":\"920a7fcc-ef4e-4514-bcaa-946c40f0d926\",\"subtype\":\"Figure\",\"type\":\"Plot\"},\"ticker\":{\"id\":\"29fd6455-ee71-4505-b2d4-56be0fd5539d\",\"type\":\"BasicTicker\"}},\"id\":\"2adb8d0e-b471-4ab3-89ca-47b0222476ef\",\"type\":\"LinearAxis\"},{\"attributes\":{},\"id\":\"3e873abb-1ed1-4bc9-a517-e86d126a56d5\",\"type\":\"ToolEvents\"},{\"attributes\":{\"below\":[{\"id\":\"72ed521d-4b57-4346-a836-27008d23ef88\",\"type\":\"LinearAxis\"}],\"left\":[{\"id\":\"2adb8d0e-b471-4ab3-89ca-47b0222476ef\",\"type\":\"LinearAxis\"}],\"plot_width\":400,\"renderers\":[{\"id\":\"72ed521d-4b57-4346-a836-27008d23ef88\",\"type\":\"LinearAxis\"},{\"id\":\"c2ee9c20-0cef-4bf9-83bb-9b9be3106995\",\"type\":\"Grid\"},{\"id\":\"2adb8d0e-b471-4ab3-89ca-47b0222476ef\",\"type\":\"LinearAxis\"},{\"id\":\"80a5332c-c8cc-4877-bdb7-fc79988c0d2d\",\"type\":\"Grid\"},{\"id\":\"0b23a89f-1fd6-4a87-93bd-f61908df34cf\",\"type\":\"BoxAnnotation\"}],\"tool_events\":{\"id\":\"795135b0-c53e-438e-b0b7-93bc578ed2c3\",\"type\":\"ToolEvents\"},\"tools\":[{\"id\":\"24471ea7-8e7c-4695-982e-3636e616109b\",\"type\":\"PanTool\"},{\"id\":\"a96753da-ebbe-4f0f-9ba4-a9da689306b5\",\"type\":\"BoxZoomTool\"}],\"x_range\":{\"id\":\"7d604e0d-bac7-4cf7-b0cd-b1b4e9411918\",\"type\":\"DataRange1d\"},\"y_range\":{\"id\":\"497565ed-eb3c-4399-8539-5b26004f8ebb\",\"type\":\"DataRange1d\"}},\"id\":\"920a7fcc-ef4e-4514-bcaa-946c40f0d926\",\"subtype\":\"Figure\",\"type\":\"Plot\"},{\"attributes\":{},\"id\":\"5ed52a20-e950-4ffd-95ed-19a2da13050c\",\"type\":\"BasicTickFormatter\"},{\"attributes\":{\"callback\":null},\"id\":\"6c3864a8-fa5f-489e-a8b6-e821f17f0a16\",\"type\":\"DataRange1d\"},{\"attributes\":{\"formatter\":{\"id\":\"c4dd8d97-2434-4c2d-ba10-e1a2b052be07\",\"type\":\"BasicTickFormatter\"},\"plot\":{\"id\":\"5e2da453-14de-45ce-b945-0be28ce4822a\",\"subtype\":\"Figure\",\"type\":\"Plot\"},\"ticker\":{\"id\":\"bab51b31-e4b2-4927-a826-46fdb2ea04a7\",\"type\":\"BasicTicker\"}},\"id\":\"6b6e55f4-0eaa-4deb-b577-abf38460ac36\",\"type\":\"LinearAxis\"},{\"attributes\":{\"plot\":{\"id\":\"c1dd04a9-e724-4330-97f1-809957079a5b\",\"subtype\":\"Figure\",\"type\":\"Plot\"},\"ticker\":{\"id\":\"1befe7a8-269b-4939-a9da-def21a9bac80\",\"type\":\"BasicTicker\"}},\"id\":\"915ad586-71d7-49be-8d49-a11578353caa\",\"type\":\"Grid\"},{\"attributes\":{\"dimension\":1,\"plot\":{\"id\":\"c1dd04a9-e724-4330-97f1-809957079a5b\",\"subtype\":\"Figure\",\"type\":\"Plot\"},\"ticker\":{\"id\":\"bf8cd9f2-dc13-4e40-8a45-2f0f8e9b3fa1\",\"type\":\"BasicTicker\"}},\"id\":\"83fb1a28-6e5c-4c11-a425-6da3bb93d279\",\"type\":\"Grid\"},{\"attributes\":{\"bottom_units\":\"screen\",\"fill_alpha\":{\"value\":0.5},\"fill_color\":{\"value\":\"lightgrey\"},\"left_units\":\"screen\",\"level\":\"overlay\",\"line_alpha\":{\"value\":1.0},\"line_color\":{\"value\":\"black\"},\"line_dash\":[4,4],\"line_width\":{\"value\":2},\"plot\":null,\"render_mode\":\"css\",\"right_units\":\"screen\",\"top_units\":\"screen\"},\"id\":\"71a93126-0701-44a5-993f-4f01f7ea674d\",\"type\":\"BoxAnnotation\"},{\"attributes\":{\"overlay\":{\"id\":\"b8e98707-51cb-48d5-b419-92305bcb5095\",\"type\":\"BoxAnnotation\"},\"plot\":{\"id\":\"5c61c417-040a-4638-915f-73ca23cee923\",\"subtype\":\"Figure\",\"type\":\"Plot\"}},\"id\":\"e671a781-79ce-48c7-93c6-1d0adac0efa9\",\"type\":\"BoxZoomTool\"},{\"attributes\":{\"data_source\":{\"id\":\"9e1640a2-4463-49be-9f72-7a6ab7c471ef\",\"type\":\"ColumnDataSource\"},\"glyph\":{\"id\":\"7a2b7e73-ecca-44c0-a539-4fd4e45e9198\",\"type\":\"X\"},\"hover_glyph\":null,\"nonselection_glyph\":{\"id\":\"a82c1d65-685c-48c5-afae-43e1f98cf7d8\",\"type\":\"X\"},\"selection_glyph\":null},\"id\":\"70b888c9-4188-42e8-80e5-45e2a0ab5320\",\"type\":\"GlyphRenderer\"},{\"attributes\":{\"plot\":{\"id\":\"efd3aaa8-f4c5-4dad-b32c-3d4582835523\",\"subtype\":\"Figure\",\"type\":\"Plot\"}},\"id\":\"52f4aa15-a76b-42a2-9c50-543328a6525a\",\"type\":\"PreviewSaveTool\"},{\"attributes\":{},\"id\":\"85edd024-5a8e-40ce-8df0-4b31df959d65\",\"type\":\"ToolEvents\"},{\"attributes\":{},\"id\":\"847d46b5-4820-4b91-ac47-5751dfb9d74d\",\"type\":\"BasicTickFormatter\"},{\"attributes\":{\"plot\":{\"id\":\"efd3aaa8-f4c5-4dad-b32c-3d4582835523\",\"subtype\":\"Figure\",\"type\":\"Plot\"}},\"id\":\"079a13a1-c336-4b80-a4b6-8a905afa6aca\",\"type\":\"ResetTool\"},{\"attributes\":{\"fill_alpha\":{\"value\":0.1},\"fill_color\":{\"value\":\"#1f77b4\"},\"line_alpha\":{\"value\":0.1},\"line_color\":{\"value\":\"#1f77b4\"},\"x\":{\"field\":\"x\"},\"y\":{\"field\":\"y\"}},\"id\":\"94351b79-9913-41dd-8dd5-cdc96f9e9f24\",\"type\":\"Circle\"},{\"attributes\":{\"bottom_units\":\"screen\",\"fill_alpha\":{\"value\":0.5},\"fill_color\":{\"value\":\"lightgrey\"},\"left_units\":\"screen\",\"level\":\"overlay\",\"line_alpha\":{\"value\":1.0},\"line_color\":{\"value\":\"black\"},\"line_dash\":[4,4],\"line_width\":{\"value\":2},\"plot\":null,\"render_mode\":\"css\",\"right_units\":\"screen\",\"top_units\":\"screen\"},\"id\":\"aa8665af-b1dd-4f60-be14-c807f70b448e\",\"type\":\"BoxAnnotation\"},{\"attributes\":{\"plot\":{\"id\":\"55671300-c71f-4199-94be-094f62e7f3fb\",\"subtype\":\"Figure\",\"type\":\"Plot\"}},\"id\":\"23e6e350-1295-4116-bda6-44f2b07f15ff\",\"type\":\"PanTool\"},{\"attributes\":{\"plot\":{\"id\":\"04f384aa-115e-4023-be4b-7ca7652b145f\",\"subtype\":\"Figure\",\"type\":\"Plot\"}},\"id\":\"20f378cd-5dd0-42e4-a43d-81e372d1824e\",\"type\":\"ResetTool\"},{\"attributes\":{\"callback\":null,\"column_names\":[\"y\",\"x\"],\"data\":{\"x\":[1,2,4,77,5,4,4],\"y\":[4,5,6,4,3,6,7,6]}},\"id\":\"fa80d162-168a-4622-a26e-99e22f8caf49\",\"type\":\"ColumnDataSource\"},{\"attributes\":{\"plot\":{\"id\":\"efd3aaa8-f4c5-4dad-b32c-3d4582835523\",\"subtype\":\"Figure\",\"type\":\"Plot\"}},\"id\":\"8122311d-8fe7-4d05-88b0-e9959931e3dd\",\"type\":\"WheelZoomTool\"},{\"attributes\":{\"axis_label\":\"fertility (children per woman)\",\"formatter\":{\"id\":\"05731cc9-8e43-4cf3-ace9-fa2c91fa956f\",\"type\":\"BasicTickFormatter\"},\"plot\":{\"id\":\"efd3aaa8-f4c5-4dad-b32c-3d4582835523\",\"subtype\":\"Figure\",\"type\":\"Plot\"},\"ticker\":{\"id\":\"7ad60271-2449-451a-8060-80843e4bdc98\",\"type\":\"BasicTicker\"}},\"id\":\"7bc9c0f4-cfd0-4767-a4fb-073ea0fe904b\",\"type\":\"LinearAxis\"},{\"attributes\":{\"below\":[{\"id\":\"58f3c18b-ca0c-49e1-aba2-8e1d95ee05b5\",\"type\":\"LinearAxis\"}],\"left\":[{\"id\":\"601c534e-6a5f-451a-919f-31d0827ac208\",\"type\":\"LinearAxis\"}],\"renderers\":[{\"id\":\"58f3c18b-ca0c-49e1-aba2-8e1d95ee05b5\",\"type\":\"LinearAxis\"},{\"id\":\"a3c104c6-bb0f-4fe8-9a68-b536b2e2c168\",\"type\":\"Grid\"},{\"id\":\"601c534e-6a5f-451a-919f-31d0827ac208\",\"type\":\"LinearAxis\"},{\"id\":\"5e844b36-791c-4241-8fe7-866a4c264b4a\",\"type\":\"Grid\"},{\"id\":\"6b94a3d1-4025-40f5-9711-2e3c3e1f5c79\",\"type\":\"BoxAnnotation\"},{\"id\":\"6366bc9f-fa66-43da-a39e-932d82334d07\",\"type\":\"GlyphRenderer\"},{\"id\":\"c535688f-9d63-4b8e-9e45-159f0822c7a7\",\"type\":\"GlyphRenderer\"}],\"tool_events\":{\"id\":\"8701a26c-9c2c-4b21-bd51-cf552a11bcb9\",\"type\":\"ToolEvents\"},\"tools\":[{\"id\":\"5c4bf691-8c3a-4aed-8f1e-c5e8fc0c45a0\",\"type\":\"PanTool\"},{\"id\":\"02a4a4ad-ace4-4801-affb-ca07017251b3\",\"type\":\"WheelZoomTool\"},{\"id\":\"26ee9c6d-4240-4ee2-9dbf-4e0fa6499095\",\"type\":\"BoxZoomTool\"},{\"id\":\"38522079-b684-4358-9939-84dda607bb0c\",\"type\":\"PreviewSaveTool\"},{\"id\":\"13e8181e-345d-45a4-9ef4-ce0910dc3a4f\",\"type\":\"ResizeTool\"},{\"id\":\"20f378cd-5dd0-42e4-a43d-81e372d1824e\",\"type\":\"ResetTool\"},{\"id\":\"a80d74d0-09dd-4a0b-9c24-d85acc1fac6d\",\"type\":\"HelpTool\"}],\"x_range\":{\"id\":\"876cca72-cf34-48e4-8381-e02326209ec8\",\"type\":\"DataRange1d\"},\"y_range\":{\"id\":\"6ad8cabc-7d4b-4fcd-a7d3-99572cf5a299\",\"type\":\"DataRange1d\"}},\"id\":\"04f384aa-115e-4023-be4b-7ca7652b145f\",\"subtype\":\"Figure\",\"type\":\"Plot\"},{\"attributes\":{\"plot\":{\"id\":\"efd3aaa8-f4c5-4dad-b32c-3d4582835523\",\"subtype\":\"Figure\",\"type\":\"Plot\"},\"ticker\":{\"id\":\"7ad60271-2449-451a-8060-80843e4bdc98\",\"type\":\"BasicTicker\"}},\"id\":\"7c0f35f9-2c01-4c3f-8a59-749458dc76ca\",\"type\":\"Grid\"},{\"attributes\":{\"fill_alpha\":{\"value\":0.1},\"fill_color\":{\"value\":\"#1f77b4\"},\"line_alpha\":{\"value\":0.1},\"line_color\":{\"value\":\"#1f77b4\"},\"x\":{\"field\":\"x\"},\"y\":{\"field\":\"y\"}},\"id\":\"9ab67aec-be59-4da8-9a69-027a173b08aa\",\"type\":\"Circle\"},{\"attributes\":{\"bottom_units\":\"screen\",\"fill_alpha\":{\"value\":0.5},\"fill_color\":{\"value\":\"lightgrey\"},\"left_units\":\"screen\",\"level\":\"overlay\",\"line_alpha\":{\"value\":1.0},\"line_color\":{\"value\":\"black\"},\"line_dash\":[4,4],\"line_width\":{\"value\":2},\"plot\":null,\"render_mode\":\"css\",\"right_units\":\"screen\",\"top_units\":\"screen\"},\"id\":\"edd82732-da98-4704-8126-b0033706f612\",\"type\":\"BoxAnnotation\"},{\"attributes\":{\"callback\":null,\"column_names\":[\"y\",\"x\"],\"data\":{\"x\":[1,2,4,77,5,4,4],\"y\":[4,5,6,4,3,6,7,6]}},\"id\":\"6edb8484-7145-4929-99c5-beb5ab889573\",\"type\":\"ColumnDataSource\"},{\"attributes\":{\"callback\":null},\"id\":\"916fa1fa-d04e-423f-8734-a3316193c28f\",\"type\":\"DataRange1d\"},{\"attributes\":{},\"id\":\"795135b0-c53e-438e-b0b7-93bc578ed2c3\",\"type\":\"ToolEvents\"},{\"attributes\":{\"below\":[{\"id\":\"392c04c9-88bd-42c0-9f0f-e0202d87fd6b\",\"type\":\"LinearAxis\"}],\"left\":[{\"id\":\"3e9e7835-269c-48f5-bc64-bc726595ac13\",\"type\":\"LinearAxis\"}],\"plot_width\":400,\"renderers\":[{\"id\":\"392c04c9-88bd-42c0-9f0f-e0202d87fd6b\",\"type\":\"LinearAxis\"},{\"id\":\"a0d12711-e0c2-4789-a6d8-61476c5d4425\",\"type\":\"Grid\"},{\"id\":\"3e9e7835-269c-48f5-bc64-bc726595ac13\",\"type\":\"LinearAxis\"},{\"id\":\"5959a01f-5921-45b6-9b92-950c2a9073f8\",\"type\":\"Grid\"},{\"id\":\"f5ef0af4-1c78-4d16-8389-54cb387d95ae\",\"type\":\"BoxAnnotation\"}],\"tool_events\":{\"id\":\"1763338a-cb0d-49f7-b32d-b1259e767e71\",\"type\":\"ToolEvents\"},\"tools\":[{\"id\":\"91d04ab2-b7b4-4971-b93e-570957ad5d1e\",\"type\":\"PanTool\"},{\"id\":\"7f072ed0-4bec-475e-9dba-575e44832559\",\"type\":\"BoxZoomTool\"}],\"x_range\":{\"id\":\"67d864eb-b874-4794-a900-a3d62692c5ee\",\"type\":\"DataRange1d\"},\"y_range\":{\"id\":\"fa76b06a-5457-422a-8026-d6cc29259deb\",\"type\":\"DataRange1d\"}},\"id\":\"1719a04e-3e3b-4c34-b6fc-40eb89066d2c\",\"subtype\":\"Figure\",\"type\":\"Plot\"},{\"attributes\":{\"plot\":{\"id\":\"c1dd04a9-e724-4330-97f1-809957079a5b\",\"subtype\":\"Figure\",\"type\":\"Plot\"}},\"id\":\"93426a6e-e318-4045-849a-dc2b265d6a9f\",\"type\":\"ResizeTool\"},{\"attributes\":{\"plot\":{\"id\":\"1719a04e-3e3b-4c34-b6fc-40eb89066d2c\",\"subtype\":\"Figure\",\"type\":\"Plot\"},\"ticker\":{\"id\":\"6f052976-58a3-4731-885e-23aff6667654\",\"type\":\"BasicTicker\"}},\"id\":\"a0d12711-e0c2-4789-a6d8-61476c5d4425\",\"type\":\"Grid\"},{\"attributes\":{},\"id\":\"37d36f64-7ad8-44aa-9fc4-94be6441db95\",\"type\":\"BasicTicker\"},{\"attributes\":{\"plot\":{\"id\":\"332dbd63-d28e-4674-b228-2da1f9bdd921\",\"subtype\":\"Figure\",\"type\":\"Plot\"}},\"id\":\"9385b291-2016-4c3e-aad5-48ebff0cc94d\",\"type\":\"PanTool\"},{\"attributes\":{\"axis_label\":\"female_literacy (% population)\",\"formatter\":{\"id\":\"5ed52a20-e950-4ffd-95ed-19a2da13050c\",\"type\":\"BasicTickFormatter\"},\"plot\":{\"id\":\"332dbd63-d28e-4674-b228-2da1f9bdd921\",\"subtype\":\"Figure\",\"type\":\"Plot\"},\"ticker\":{\"id\":\"ea2fd776-bb82-4b5b-973a-3c09b18286bf\",\"type\":\"BasicTicker\"}},\"id\":\"c67bf133-910c-4882-9a86-3000f619e6d0\",\"type\":\"LinearAxis\"},{\"attributes\":{},\"id\":\"8d8035c1-0e32-4f1e-9ace-ddcb05f4b543\",\"type\":\"ToolEvents\"},{\"attributes\":{},\"id\":\"553670f8-7b02-4f1d-9299-507679354cde\",\"type\":\"BasicTickFormatter\"},{\"attributes\":{\"callback\":null,\"column_names\":[\"y\",\"x\"],\"data\":{\"x\":[1,2,4,77,5,4,4],\"y\":[4,5,6,4,3,6,7,6]}},\"id\":\"74d0c792-b0bf-4879-9056-61f318859718\",\"type\":\"ColumnDataSource\"},{\"attributes\":{\"callback\":null,\"column_names\":[\"y\",\"x\"],\"data\":{\"x\":[1,2,4,77,5,4,4],\"y\":[4,5,6,4,3,6,7,6]}},\"id\":\"49db9606-5a24-4ac7-8fcf-0c6e0dfc9739\",\"type\":\"ColumnDataSource\"},{\"attributes\":{\"bottom_units\":\"screen\",\"fill_alpha\":{\"value\":0.5},\"fill_color\":{\"value\":\"lightgrey\"},\"left_units\":\"screen\",\"level\":\"overlay\",\"line_alpha\":{\"value\":1.0},\"line_color\":{\"value\":\"black\"},\"line_dash\":[4,4],\"line_width\":{\"value\":2},\"plot\":null,\"render_mode\":\"css\",\"right_units\":\"screen\",\"top_units\":\"screen\"},\"id\":\"0b23a89f-1fd6-4a87-93bd-f61908df34cf\",\"type\":\"BoxAnnotation\"},{\"attributes\":{\"axis_label\":\"fertility (children per woman)\",\"formatter\":{\"id\":\"c8ee79d0-eeaa-4853-8aca-0d07485a817d\",\"type\":\"BasicTickFormatter\"},\"plot\":{\"id\":\"04f384aa-115e-4023-be4b-7ca7652b145f\",\"subtype\":\"Figure\",\"type\":\"Plot\"},\"ticker\":{\"id\":\"55f9dbc1-dd5d-4fc8-a9be-4b3b5728ec6e\",\"type\":\"BasicTicker\"}},\"id\":\"58f3c18b-ca0c-49e1-aba2-8e1d95ee05b5\",\"type\":\"LinearAxis\"},{\"attributes\":{},\"id\":\"a9ec716b-7437-47f4-98f2-064dcdbfdbde\",\"type\":\"BasicTicker\"},{\"attributes\":{\"formatter\":{\"id\":\"3c68e834-7fc1-4e5d-97d9-df38ebd9ec64\",\"type\":\"BasicTickFormatter\"},\"plot\":{\"id\":\"55671300-c71f-4199-94be-094f62e7f3fb\",\"subtype\":\"Figure\",\"type\":\"Plot\"},\"ticker\":{\"id\":\"171b7001-5189-446b-8954-ea8227eb2743\",\"type\":\"BasicTicker\"}},\"id\":\"13d214ac-b63e-436b-90ad-dcd2ad8eed07\",\"type\":\"LinearAxis\"},{\"attributes\":{\"plot\":{\"id\":\"5c61c417-040a-4638-915f-73ca23cee923\",\"subtype\":\"Figure\",\"type\":\"Plot\"}},\"id\":\"95f1f315-ca4d-451c-a193-6154f3ee9119\",\"type\":\"HelpTool\"},{\"attributes\":{},\"id\":\"dbe5a232-1e7d-4c93-b676-2874145d4161\",\"type\":\"ToolEvents\"},{\"attributes\":{},\"id\":\"8b3e9327-4cd0-428c-9a21-162f2a2c1314\",\"type\":\"BasicTickFormatter\"},{\"attributes\":{\"below\":[{\"id\":\"c252d299-7553-4c77-afb5-1ccb72d8a1c6\",\"type\":\"LinearAxis\"}],\"left\":[{\"id\":\"0d940458-d073-4c83-a0af-7a3b58404133\",\"type\":\"LinearAxis\"}],\"renderers\":[{\"id\":\"c252d299-7553-4c77-afb5-1ccb72d8a1c6\",\"type\":\"LinearAxis\"},{\"id\":\"915ad586-71d7-49be-8d49-a11578353caa\",\"type\":\"Grid\"},{\"id\":\"0d940458-d073-4c83-a0af-7a3b58404133\",\"type\":\"LinearAxis\"},{\"id\":\"83fb1a28-6e5c-4c11-a425-6da3bb93d279\",\"type\":\"Grid\"},{\"id\":\"f651bde9-0382-4cd8-bc74-20d8689b91cf\",\"type\":\"BoxAnnotation\"},{\"id\":\"6e26c2dd-072e-4de6-a3e3-e40a8adcae0b\",\"type\":\"GlyphRenderer\"},{\"id\":\"e8f519e3-4c4f-413f-af8a-82844c4ab2fd\",\"type\":\"GlyphRenderer\"}],\"tool_events\":{\"id\":\"27bbf803-bb91-4145-bbeb-b32ee865ead3\",\"type\":\"ToolEvents\"},\"tools\":[{\"id\":\"4ba2187f-9af3-4995-a077-0add35d306bf\",\"type\":\"PanTool\"},{\"id\":\"4e575a04-cbe8-4848-9c28-ed32ac763933\",\"type\":\"WheelZoomTool\"},{\"id\":\"9e47f3f2-6502-4b53-b582-d654a6ca59e2\",\"type\":\"BoxZoomTool\"},{\"id\":\"4c5a985d-1290-4632-8256-eec55ee2f993\",\"type\":\"PreviewSaveTool\"},{\"id\":\"93426a6e-e318-4045-849a-dc2b265d6a9f\",\"type\":\"ResizeTool\"},{\"id\":\"d6491609-787e-43be-b7f3-dbc637623ef9\",\"type\":\"ResetTool\"},{\"id\":\"643820dc-9504-446a-8b12-0368acbdfd1c\",\"type\":\"HelpTool\"}],\"x_range\":{\"id\":\"6fabd794-a011-4d9b-9684-7bb6d2d800a6\",\"type\":\"DataRange1d\"},\"y_range\":{\"id\":\"cc6a9b7b-765a-4dcd-b7ff-876bc19cafc2\",\"type\":\"DataRange1d\"}},\"id\":\"c1dd04a9-e724-4330-97f1-809957079a5b\",\"subtype\":\"Figure\",\"type\":\"Plot\"},{\"attributes\":{\"overlay\":{\"id\":\"3efae6d5-b7e8-4b0c-90f1-bf3bc88a8558\",\"type\":\"BoxAnnotation\"},\"plot\":{\"id\":\"3263db1d-fe6b-4c50-b9f3-1c3dbbe69a28\",\"subtype\":\"Figure\",\"type\":\"Plot\"}},\"id\":\"2c26f57c-8255-4249-9913-37eb115d1543\",\"type\":\"BoxZoomTool\"},{\"attributes\":{},\"id\":\"04f1a697-212a-4acb-bc79-55fe502811a4\",\"type\":\"ToolEvents\"},{\"attributes\":{},\"id\":\"9be0c495-8246-48d0-babb-ee44141423b0\",\"type\":\"BasicTickFormatter\"},{\"attributes\":{},\"id\":\"9b279e42-0dde-4e48-8ff6-af94cfcc4f40\",\"type\":\"BasicTickFormatter\"},{\"attributes\":{\"plot\":{\"id\":\"c1dd04a9-e724-4330-97f1-809957079a5b\",\"subtype\":\"Figure\",\"type\":\"Plot\"}},\"id\":\"d6491609-787e-43be-b7f3-dbc637623ef9\",\"type\":\"ResetTool\"},{\"attributes\":{\"overlay\":{\"id\":\"6b94a3d1-4025-40f5-9711-2e3c3e1f5c79\",\"type\":\"BoxAnnotation\"},\"plot\":{\"id\":\"04f384aa-115e-4023-be4b-7ca7652b145f\",\"subtype\":\"Figure\",\"type\":\"Plot\"}},\"id\":\"26ee9c6d-4240-4ee2-9dbf-4e0fa6499095\",\"type\":\"BoxZoomTool\"},{\"attributes\":{},\"id\":\"8e5dfd5e-691f-4c55-84a7-1bb5a8ef1069\",\"type\":\"BasicTickFormatter\"},{\"attributes\":{\"overlay\":{\"id\":\"0b23a89f-1fd6-4a87-93bd-f61908df34cf\",\"type\":\"BoxAnnotation\"},\"plot\":{\"id\":\"920a7fcc-ef4e-4514-bcaa-946c40f0d926\",\"subtype\":\"Figure\",\"type\":\"Plot\"}},\"id\":\"a96753da-ebbe-4f0f-9ba4-a9da689306b5\",\"type\":\"BoxZoomTool\"},{\"attributes\":{\"plot\":{\"id\":\"5c61c417-040a-4638-915f-73ca23cee923\",\"subtype\":\"Figure\",\"type\":\"Plot\"}},\"id\":\"c5b3df49-16d9-41ac-b9c3-6f850a28aa4d\",\"type\":\"ResetTool\"},{\"attributes\":{\"dimension\":1,\"plot\":{\"id\":\"1719a04e-3e3b-4c34-b6fc-40eb89066d2c\",\"subtype\":\"Figure\",\"type\":\"Plot\"},\"ticker\":{\"id\":\"a6b84da6-4370-40b3-82c5-572deb246c4b\",\"type\":\"BasicTicker\"}},\"id\":\"5959a01f-5921-45b6-9b92-950c2a9073f8\",\"type\":\"Grid\"},{\"attributes\":{},\"id\":\"27bbf803-bb91-4145-bbeb-b32ee865ead3\",\"type\":\"ToolEvents\"},{\"attributes\":{\"callback\":null},\"id\":\"876cca72-cf34-48e4-8381-e02326209ec8\",\"type\":\"DataRange1d\"},{\"attributes\":{\"overlay\":{\"id\":\"edd82732-da98-4704-8126-b0033706f612\",\"type\":\"BoxAnnotation\"},\"plot\":{\"id\":\"eb9fee0e-58cb-4643-8d69-7fd4c1da6d28\",\"subtype\":\"Figure\",\"type\":\"Plot\"}},\"id\":\"7e038ed3-759a-405b-8a4c-9a17ac1795ab\",\"type\":\"BoxZoomTool\"},{\"attributes\":{\"dimension\":1,\"plot\":{\"id\":\"3263db1d-fe6b-4c50-b9f3-1c3dbbe69a28\",\"subtype\":\"Figure\",\"type\":\"Plot\"},\"ticker\":{\"id\":\"94afccfc-0bf9-4cb3-a54a-8f5da0c13612\",\"type\":\"BasicTicker\"}},\"id\":\"5269358b-76f1-414d-a677-7b2185f92a8f\",\"type\":\"Grid\"},{\"attributes\":{\"plot\":{\"id\":\"1719a04e-3e3b-4c34-b6fc-40eb89066d2c\",\"subtype\":\"Figure\",\"type\":\"Plot\"}},\"id\":\"91d04ab2-b7b4-4971-b93e-570957ad5d1e\",\"type\":\"PanTool\"},{\"attributes\":{},\"id\":\"5db7b4c4-fe7b-4176-89d9-1daf228dc56a\",\"type\":\"BasicTicker\"},{\"attributes\":{},\"id\":\"94afccfc-0bf9-4cb3-a54a-8f5da0c13612\",\"type\":\"BasicTicker\"},{\"attributes\":{\"bottom_units\":\"screen\",\"fill_alpha\":{\"value\":0.5},\"fill_color\":{\"value\":\"lightgrey\"},\"left_units\":\"screen\",\"level\":\"overlay\",\"line_alpha\":{\"value\":1.0},\"line_color\":{\"value\":\"black\"},\"line_dash\":[4,4],\"line_width\":{\"value\":2},\"plot\":null,\"render_mode\":\"css\",\"right_units\":\"screen\",\"top_units\":\"screen\"},\"id\":\"3efae6d5-b7e8-4b0c-90f1-bf3bc88a8558\",\"type\":\"BoxAnnotation\"},{\"attributes\":{\"plot\":{\"id\":\"efd3aaa8-f4c5-4dad-b32c-3d4582835523\",\"subtype\":\"Figure\",\"type\":\"Plot\"}},\"id\":\"e95c6e9a-3d9e-47ce-9bfd-36b82772cdbd\",\"type\":\"PanTool\"},{\"attributes\":{\"callback\":null,\"column_names\":[\"y\",\"x\"],\"data\":{\"x\":[1,2,4,77,5,4,4],\"y\":[4,5,6,4,3,6,7,6]}},\"id\":\"5555916d-5a9d-4dca-bd2c-1e3afed8a517\",\"type\":\"ColumnDataSource\"},{\"attributes\":{\"bottom_units\":\"screen\",\"fill_alpha\":{\"value\":0.5},\"fill_color\":{\"value\":\"lightgrey\"},\"left_units\":\"screen\",\"level\":\"overlay\",\"line_alpha\":{\"value\":1.0},\"line_color\":{\"value\":\"black\"},\"line_dash\":[4,4],\"line_width\":{\"value\":2},\"plot\":null,\"render_mode\":\"css\",\"right_units\":\"screen\",\"top_units\":\"screen\"},\"id\":\"6b8b52fd-4b16-4ed8-baa3-a3eccc3ef44c\",\"type\":\"BoxAnnotation\"},{\"attributes\":{\"fill_alpha\":{\"value\":0.1},\"fill_color\":{\"value\":\"#1f77b4\"},\"line_alpha\":{\"value\":0.1},\"line_color\":{\"value\":\"#1f77b4\"},\"x\":{\"field\":\"x\"},\"y\":{\"field\":\"y\"}},\"id\":\"57accf96-178d-40db-86e3-d2b1619f59c2\",\"type\":\"X\"},{\"attributes\":{\"callback\":null},\"id\":\"3ce8c0be-5d81-4f81-931d-84f6bc2d9808\",\"type\":\"DataRange1d\"},{\"attributes\":{},\"id\":\"05731cc9-8e43-4cf3-ace9-fa2c91fa956f\",\"type\":\"BasicTickFormatter\"},{\"attributes\":{\"plot\":{\"id\":\"7ed2b023-cb5f-4f20-9d6b-851806f98a64\",\"subtype\":\"Figure\",\"type\":\"Plot\"},\"ticker\":{\"id\":\"a9ec716b-7437-47f4-98f2-064dcdbfdbde\",\"type\":\"BasicTicker\"}},\"id\":\"45526093-2a45-4ef2-a2d7-8bae95879ce2\",\"type\":\"Grid\"},{\"attributes\":{\"callback\":null},\"id\":\"f60b6df6-e657-433b-80c2-872a9b0ed3cd\",\"type\":\"DataRange1d\"},{\"attributes\":{\"dimension\":1,\"plot\":{\"id\":\"332dbd63-d28e-4674-b228-2da1f9bdd921\",\"subtype\":\"Figure\",\"type\":\"Plot\"},\"ticker\":{\"id\":\"ea2fd776-bb82-4b5b-973a-3c09b18286bf\",\"type\":\"BasicTicker\"}},\"id\":\"462d9073-7a91-4a2a-8a15-bc1951cf7d9a\",\"type\":\"Grid\"},{\"attributes\":{},\"id\":\"7ad60271-2449-451a-8060-80843e4bdc98\",\"type\":\"BasicTicker\"},{\"attributes\":{\"plot\":{\"id\":\"04f384aa-115e-4023-be4b-7ca7652b145f\",\"subtype\":\"Figure\",\"type\":\"Plot\"},\"ticker\":{\"id\":\"55f9dbc1-dd5d-4fc8-a9be-4b3b5728ec6e\",\"type\":\"BasicTicker\"}},\"id\":\"a3c104c6-bb0f-4fe8-9a68-b536b2e2c168\",\"type\":\"Grid\"},{\"attributes\":{\"axis_label\":\"fertility (children per woman)\",\"formatter\":{\"id\":\"5be19fe0-3364-433a-bfed-2673dd3cc033\",\"type\":\"BasicTickFormatter\"},\"plot\":{\"id\":\"c1dd04a9-e724-4330-97f1-809957079a5b\",\"subtype\":\"Figure\",\"type\":\"Plot\"},\"ticker\":{\"id\":\"1befe7a8-269b-4939-a9da-def21a9bac80\",\"type\":\"BasicTicker\"}},\"id\":\"c252d299-7553-4c77-afb5-1ccb72d8a1c6\",\"type\":\"LinearAxis\"},{\"attributes\":{\"fill_color\":{\"value\":\"#1f77b4\"},\"line_color\":{\"value\":\"#1f77b4\"},\"x\":{\"field\":\"x\"},\"y\":{\"field\":\"y\"}},\"id\":\"4b9af68d-7665-444a-941b-78e56ee0c938\",\"type\":\"X\"},{\"attributes\":{\"callback\":null},\"id\":\"bea203b3-53d6-464c-9c44-b2c684df281a\",\"type\":\"DataRange1d\"},{\"attributes\":{\"below\":[{\"id\":\"1beb6b1b-85d9-43a6-8cdc-6757ec382972\",\"type\":\"LinearAxis\"}],\"left\":[{\"id\":\"c67bf133-910c-4882-9a86-3000f619e6d0\",\"type\":\"LinearAxis\"}],\"renderers\":[{\"id\":\"1beb6b1b-85d9-43a6-8cdc-6757ec382972\",\"type\":\"LinearAxis\"},{\"id\":\"6ae0e069-7202-479f-8412-667d2c9f7272\",\"type\":\"Grid\"},{\"id\":\"c67bf133-910c-4882-9a86-3000f619e6d0\",\"type\":\"LinearAxis\"},{\"id\":\"462d9073-7a91-4a2a-8a15-bc1951cf7d9a\",\"type\":\"Grid\"},{\"id\":\"0a60e695-66d0-44db-b406-e92a8d350522\",\"type\":\"BoxAnnotation\"},{\"id\":\"04a6e1c5-6b00-47c6-ae74-6342831277ad\",\"type\":\"GlyphRenderer\"},{\"id\":\"70b888c9-4188-42e8-80e5-45e2a0ab5320\",\"type\":\"GlyphRenderer\"}],\"tool_events\":{\"id\":\"1c1140c5-4ffc-4828-bfc3-87750740b79b\",\"type\":\"ToolEvents\"},\"tools\":[{\"id\":\"9385b291-2016-4c3e-aad5-48ebff0cc94d\",\"type\":\"PanTool\"},{\"id\":\"2dc8e21f-89ce-4ec3-965e-607eaaebbc83\",\"type\":\"WheelZoomTool\"},{\"id\":\"36ffdb87-2186-4f6c-b313-289457325069\",\"type\":\"BoxZoomTool\"},{\"id\":\"e76ae0a2-f16b-45f5-b49b-ef92d6d0e701\",\"type\":\"PreviewSaveTool\"},{\"id\":\"b97a6846-d8a7-41eb-adce-16adbcd0477d\",\"type\":\"ResizeTool\"},{\"id\":\"8bba1b3c-859c-43d7-be62-c09d7cdc7c6d\",\"type\":\"ResetTool\"},{\"id\":\"26c72cbe-4871-4578-8935-ee28e899026c\",\"type\":\"HelpTool\"}],\"x_range\":{\"id\":\"0b58687e-dae4-43cd-a054-6a7c677c4f9a\",\"type\":\"DataRange1d\"},\"y_range\":{\"id\":\"2ad2db28-aaf2-459c-8ba2-dcb7a60f74ca\",\"type\":\"DataRange1d\"}},\"id\":\"332dbd63-d28e-4674-b228-2da1f9bdd921\",\"subtype\":\"Figure\",\"type\":\"Plot\"},{\"attributes\":{\"plot\":{\"id\":\"eb9fee0e-58cb-4643-8d69-7fd4c1da6d28\",\"subtype\":\"Figure\",\"type\":\"Plot\"},\"ticker\":{\"id\":\"5db7b4c4-fe7b-4176-89d9-1daf228dc56a\",\"type\":\"BasicTicker\"}},\"id\":\"a9c1d25e-9b1c-492d-b55b-d0d27c041ce7\",\"type\":\"Grid\"},{\"attributes\":{},\"id\":\"bf8cd9f2-dc13-4e40-8a45-2f0f8e9b3fa1\",\"type\":\"BasicTicker\"},{\"attributes\":{\"fill_alpha\":{\"value\":0.1},\"fill_color\":{\"value\":\"#1f77b4\"},\"line_alpha\":{\"value\":0.1},\"line_color\":{\"value\":\"#1f77b4\"},\"x\":{\"field\":\"x\"},\"y\":{\"field\":\"y\"}},\"id\":\"b3581da3-116b-47e3-83a8-4208603d129e\",\"type\":\"X\"},{\"attributes\":{\"bottom_units\":\"screen\",\"fill_alpha\":{\"value\":0.5},\"fill_color\":{\"value\":\"lightgrey\"},\"left_units\":\"screen\",\"level\":\"overlay\",\"line_alpha\":{\"value\":1.0},\"line_color\":{\"value\":\"black\"},\"line_dash\":[4,4],\"line_width\":{\"value\":2},\"plot\":null,\"render_mode\":\"css\",\"right_units\":\"screen\",\"top_units\":\"screen\"},\"id\":\"b8e98707-51cb-48d5-b419-92305bcb5095\",\"type\":\"BoxAnnotation\"},{\"attributes\":{},\"id\":\"1763338a-cb0d-49f7-b32d-b1259e767e71\",\"type\":\"ToolEvents\"},{\"attributes\":{\"plot\":{\"id\":\"5e2da453-14de-45ce-b945-0be28ce4822a\",\"subtype\":\"Figure\",\"type\":\"Plot\"},\"ticker\":{\"id\":\"16082b8b-f805-4319-8e64-80419d4c47a1\",\"type\":\"BasicTicker\"}},\"id\":\"10eb6a6e-2521-473d-bac6-7e7cfea094c4\",\"type\":\"Grid\"},{\"attributes\":{},\"id\":\"c4dd8d97-2434-4c2d-ba10-e1a2b052be07\",\"type\":\"BasicTickFormatter\"},{\"attributes\":{},\"id\":\"6f052976-58a3-4731-885e-23aff6667654\",\"type\":\"BasicTicker\"},{\"attributes\":{\"formatter\":{\"id\":\"4a49b520-505f-4fa7-aadd-d8c2907feb5a\",\"type\":\"BasicTickFormatter\"},\"plot\":{\"id\":\"7ed2b023-cb5f-4f20-9d6b-851806f98a64\",\"subtype\":\"Figure\",\"type\":\"Plot\"},\"ticker\":{\"id\":\"a9ec716b-7437-47f4-98f2-064dcdbfdbde\",\"type\":\"BasicTicker\"}},\"id\":\"a22ae9db-71c4-4fcc-bedd-41775e588c45\",\"type\":\"LinearAxis\"},{\"attributes\":{\"bottom_units\":\"screen\",\"fill_alpha\":{\"value\":0.5},\"fill_color\":{\"value\":\"lightgrey\"},\"left_units\":\"screen\",\"level\":\"overlay\",\"line_alpha\":{\"value\":1.0},\"line_color\":{\"value\":\"black\"},\"line_dash\":[4,4],\"line_width\":{\"value\":2},\"plot\":null,\"render_mode\":\"css\",\"right_units\":\"screen\",\"top_units\":\"screen\"},\"id\":\"f651bde9-0382-4cd8-bc74-20d8689b91cf\",\"type\":\"BoxAnnotation\"},{\"attributes\":{\"plot\":{\"id\":\"332dbd63-d28e-4674-b228-2da1f9bdd921\",\"subtype\":\"Figure\",\"type\":\"Plot\"}},\"id\":\"b97a6846-d8a7-41eb-adce-16adbcd0477d\",\"type\":\"ResizeTool\"},{\"attributes\":{\"dimension\":1,\"plot\":{\"id\":\"5c61c417-040a-4638-915f-73ca23cee923\",\"subtype\":\"Figure\",\"type\":\"Plot\"},\"ticker\":{\"id\":\"28d7ef27-ce16-45c4-80e3-a23bdf523881\",\"type\":\"BasicTicker\"}},\"id\":\"1625648c-531a-4cc2-b2cc-a3c799900799\",\"type\":\"Grid\"},{\"attributes\":{\"callback\":null},\"id\":\"cdd23f8d-153c-4a0c-920d-ec709291d89d\",\"type\":\"DataRange1d\"},{\"attributes\":{\"callback\":null},\"id\":\"6508b185-305a-4530-91d6-bb022820650c\",\"type\":\"DataRange1d\"},{\"attributes\":{\"below\":[{\"id\":\"a22ae9db-71c4-4fcc-bedd-41775e588c45\",\"type\":\"LinearAxis\"}],\"left\":[{\"id\":\"328f96cc-6824-4ffa-a989-d66d9bd7e2af\",\"type\":\"LinearAxis\"}],\"plot_width\":400,\"renderers\":[{\"id\":\"a22ae9db-71c4-4fcc-bedd-41775e588c45\",\"type\":\"LinearAxis\"},{\"id\":\"45526093-2a45-4ef2-a2d7-8bae95879ce2\",\"type\":\"Grid\"},{\"id\":\"328f96cc-6824-4ffa-a989-d66d9bd7e2af\",\"type\":\"LinearAxis\"},{\"id\":\"fb21242e-a1eb-420d-b8fb-8f608f89c6d3\",\"type\":\"Grid\"},{\"id\":\"6b8b52fd-4b16-4ed8-baa3-a3eccc3ef44c\",\"type\":\"BoxAnnotation\"}],\"tool_events\":{\"id\":\"8d8035c1-0e32-4f1e-9ace-ddcb05f4b543\",\"type\":\"ToolEvents\"},\"tools\":[{\"id\":\"8a448dfa-a46b-45ff-b4be-ccd676e5c88b\",\"type\":\"PanTool\"},{\"id\":\"cb954da5-6e32-4477-996f-e0c1dbaff558\",\"type\":\"BoxZoomTool\"}],\"x_range\":{\"id\":\"d24ada4d-2393-4272-a57e-b5b321c48058\",\"type\":\"DataRange1d\"},\"y_range\":{\"id\":\"f60b6df6-e657-433b-80c2-872a9b0ed3cd\",\"type\":\"DataRange1d\"}},\"id\":\"7ed2b023-cb5f-4f20-9d6b-851806f98a64\",\"subtype\":\"Figure\",\"type\":\"Plot\"},{\"attributes\":{},\"id\":\"59255863-b22c-447b-9f48-220e829265e4\",\"type\":\"BasicTicker\"},{\"attributes\":{\"callback\":null},\"id\":\"cc6a9b7b-765a-4dcd-b7ff-876bc19cafc2\",\"type\":\"DataRange1d\"},{\"attributes\":{\"callback\":null,\"column_names\":[\"y\",\"x\"],\"data\":{\"x\":[1,2,4,77,5,4,4],\"y\":[4,5,6,4,3,6,7,6]}},\"id\":\"9e1640a2-4463-49be-9f72-7a6ab7c471ef\",\"type\":\"ColumnDataSource\"},{\"attributes\":{\"callback\":null},\"id\":\"497565ed-eb3c-4399-8539-5b26004f8ebb\",\"type\":\"DataRange1d\"},{\"attributes\":{\"fill_color\":{\"value\":\"#1f77b4\"},\"line_color\":{\"value\":\"#1f77b4\"},\"x\":{\"field\":\"x\"},\"y\":{\"field\":\"y\"}},\"id\":\"5ff9a232-347d-4e67-940a-fb10103cda87\",\"type\":\"Circle\"},{\"attributes\":{\"overlay\":{\"id\":\"0a60e695-66d0-44db-b406-e92a8d350522\",\"type\":\"BoxAnnotation\"},\"plot\":{\"id\":\"332dbd63-d28e-4674-b228-2da1f9bdd921\",\"subtype\":\"Figure\",\"type\":\"Plot\"}},\"id\":\"36ffdb87-2186-4f6c-b313-289457325069\",\"type\":\"BoxZoomTool\"},{\"attributes\":{},\"id\":\"5be19fe0-3364-433a-bfed-2673dd3cc033\",\"type\":\"BasicTickFormatter\"},{\"attributes\":{\"below\":[{\"id\":\"d2c1dd03-6a9f-4dab-8068-5639dbe70aa3\",\"type\":\"LinearAxis\"}],\"left\":[{\"id\":\"7d2ce1a0-8ec1-40be-aa97-93c905d054ca\",\"type\":\"LinearAxis\"}],\"plot_width\":400,\"renderers\":[{\"id\":\"d2c1dd03-6a9f-4dab-8068-5639dbe70aa3\",\"type\":\"LinearAxis\"},{\"id\":\"a9c1d25e-9b1c-492d-b55b-d0d27c041ce7\",\"type\":\"Grid\"},{\"id\":\"7d2ce1a0-8ec1-40be-aa97-93c905d054ca\",\"type\":\"LinearAxis\"},{\"id\":\"f17bb809-0d49-4cd2-9eb3-e549c1ce599a\",\"type\":\"Grid\"},{\"id\":\"edd82732-da98-4704-8126-b0033706f612\",\"type\":\"BoxAnnotation\"}],\"tool_events\":{\"id\":\"85edd024-5a8e-40ce-8df0-4b31df959d65\",\"type\":\"ToolEvents\"},\"tools\":[{\"id\":\"19cb9cac-e55d-4172-ae6c-196cd51536c7\",\"type\":\"PanTool\"},{\"id\":\"7e038ed3-759a-405b-8a4c-9a17ac1795ab\",\"type\":\"BoxZoomTool\"}],\"x_range\":{\"id\":\"f7992827-1423-4778-a451-371403f77342\",\"type\":\"DataRange1d\"},\"y_range\":{\"id\":\"916fa1fa-d04e-423f-8734-a3316193c28f\",\"type\":\"DataRange1d\"}},\"id\":\"eb9fee0e-58cb-4643-8d69-7fd4c1da6d28\",\"subtype\":\"Figure\",\"type\":\"Plot\"},{\"attributes\":{\"overlay\":{\"id\":\"b9a3c66c-11d0-436e-960b-bd4fbe05e4fa\",\"type\":\"BoxAnnotation\"},\"plot\":{\"id\":\"55671300-c71f-4199-94be-094f62e7f3fb\",\"subtype\":\"Figure\",\"type\":\"Plot\"}},\"id\":\"208e62d7-2573-4719-beba-18997380ea10\",\"type\":\"BoxZoomTool\"},{\"attributes\":{\"data_source\":{\"id\":\"fa80d162-168a-4622-a26e-99e22f8caf49\",\"type\":\"ColumnDataSource\"},\"glyph\":{\"id\":\"4b9af68d-7665-444a-941b-78e56ee0c938\",\"type\":\"X\"},\"hover_glyph\":null,\"nonselection_glyph\":{\"id\":\"57accf96-178d-40db-86e3-d2b1619f59c2\",\"type\":\"X\"},\"selection_glyph\":null},\"id\":\"e8f519e3-4c4f-413f-af8a-82844c4ab2fd\",\"type\":\"GlyphRenderer\"},{\"attributes\":{\"callback\":null},\"id\":\"6ad8cabc-7d4b-4fcd-a7d3-99572cf5a299\",\"type\":\"DataRange1d\"},{\"attributes\":{},\"id\":\"5a209795-0c6a-46ce-b058-2539088a9bc4\",\"type\":\"BasicTickFormatter\"},{\"attributes\":{\"below\":[{\"id\":\"fed58aae-de75-49eb-bc27-e644563448c2\",\"type\":\"LinearAxis\"}],\"left\":[{\"id\":\"6b6e55f4-0eaa-4deb-b577-abf38460ac36\",\"type\":\"LinearAxis\"}],\"plot_width\":400,\"renderers\":[{\"id\":\"fed58aae-de75-49eb-bc27-e644563448c2\",\"type\":\"LinearAxis\"},{\"id\":\"10eb6a6e-2521-473d-bac6-7e7cfea094c4\",\"type\":\"Grid\"},{\"id\":\"6b6e55f4-0eaa-4deb-b577-abf38460ac36\",\"type\":\"LinearAxis\"},{\"id\":\"9fa74d9a-b036-4760-99cb-32d5226a4daa\",\"type\":\"Grid\"},{\"id\":\"71a93126-0701-44a5-993f-4f01f7ea674d\",\"type\":\"BoxAnnotation\"}],\"tool_events\":{\"id\":\"04f1a697-212a-4acb-bc79-55fe502811a4\",\"type\":\"ToolEvents\"},\"tools\":[{\"id\":\"824a2551-cab0-46a1-8906-fbb42ae497ac\",\"type\":\"PanTool\"},{\"id\":\"ca4f1b3a-6f48-44f9-9caf-528f7067ec9c\",\"type\":\"BoxZoomTool\"}],\"x_range\":{\"id\":\"cdd23f8d-153c-4a0c-920d-ec709291d89d\",\"type\":\"DataRange1d\"},\"y_range\":{\"id\":\"f280407f-420a-45df-92a8-a8007dcff24c\",\"type\":\"DataRange1d\"}},\"id\":\"5e2da453-14de-45ce-b945-0be28ce4822a\",\"subtype\":\"Figure\",\"type\":\"Plot\"},{\"attributes\":{\"overlay\":{\"id\":\"f651bde9-0382-4cd8-bc74-20d8689b91cf\",\"type\":\"BoxAnnotation\"},\"plot\":{\"id\":\"c1dd04a9-e724-4330-97f1-809957079a5b\",\"subtype\":\"Figure\",\"type\":\"Plot\"}},\"id\":\"9e47f3f2-6502-4b53-b582-d654a6ca59e2\",\"type\":\"BoxZoomTool\"},{\"attributes\":{},\"id\":\"8701a26c-9c2c-4b21-bd51-cf552a11bcb9\",\"type\":\"ToolEvents\"},{\"attributes\":{},\"id\":\"670604f6-d5a3-4554-bbf7-083e59820d24\",\"type\":\"BasicTickFormatter\"},{\"attributes\":{\"dimension\":1,\"plot\":{\"id\":\"55671300-c71f-4199-94be-094f62e7f3fb\",\"subtype\":\"Figure\",\"type\":\"Plot\"},\"ticker\":{\"id\":\"171b7001-5189-446b-8954-ea8227eb2743\",\"type\":\"BasicTicker\"}},\"id\":\"9ff7e16c-b180-4c0c-907e-01ca1b6f4ad4\",\"type\":\"Grid\"},{\"attributes\":{\"plot\":{\"id\":\"c1dd04a9-e724-4330-97f1-809957079a5b\",\"subtype\":\"Figure\",\"type\":\"Plot\"}},\"id\":\"643820dc-9504-446a-8b12-0368acbdfd1c\",\"type\":\"HelpTool\"},{\"attributes\":{\"callback\":null},\"id\":\"67d864eb-b874-4794-a900-a3d62692c5ee\",\"type\":\"DataRange1d\"},{\"attributes\":{\"plot\":{\"id\":\"04f384aa-115e-4023-be4b-7ca7652b145f\",\"subtype\":\"Figure\",\"type\":\"Plot\"}},\"id\":\"02a4a4ad-ace4-4801-affb-ca07017251b3\",\"type\":\"WheelZoomTool\"},{\"attributes\":{},\"id\":\"0716e2ce-9e3f-4bd7-963e-dee193f9fd78\",\"type\":\"ToolEvents\"},{\"attributes\":{},\"id\":\"58d20697-36c6-495b-8418-44d9fb52850f\",\"type\":\"BasicTickFormatter\"},{\"attributes\":{\"plot\":{\"id\":\"04f384aa-115e-4023-be4b-7ca7652b145f\",\"subtype\":\"Figure\",\"type\":\"Plot\"}},\"id\":\"a80d74d0-09dd-4a0b-9c24-d85acc1fac6d\",\"type\":\"HelpTool\"},{\"attributes\":{},\"id\":\"3c68e834-7fc1-4e5d-97d9-df38ebd9ec64\",\"type\":\"BasicTickFormatter\"},{\"attributes\":{},\"id\":\"d1205bf9-b979-4ada-b667-a32a09256588\",\"type\":\"BasicTickFormatter\"},{\"attributes\":{\"plot\":{\"id\":\"332dbd63-d28e-4674-b228-2da1f9bdd921\",\"subtype\":\"Figure\",\"type\":\"Plot\"}},\"id\":\"8bba1b3c-859c-43d7-be62-c09d7cdc7c6d\",\"type\":\"ResetTool\"},{\"attributes\":{\"callback\":null},\"id\":\"d24ada4d-2393-4272-a57e-b5b321c48058\",\"type\":\"DataRange1d\"},{\"attributes\":{},\"id\":\"ad327580-fc3d-422b-b976-d6376c5cd43a\",\"type\":\"BasicTickFormatter\"},{\"attributes\":{\"plot\":{\"id\":\"c1dd04a9-e724-4330-97f1-809957079a5b\",\"subtype\":\"Figure\",\"type\":\"Plot\"}},\"id\":\"4e575a04-cbe8-4848-9c28-ed32ac763933\",\"type\":\"WheelZoomTool\"},{\"attributes\":{\"callback\":null},\"id\":\"7d604e0d-bac7-4cf7-b0cd-b1b4e9411918\",\"type\":\"DataRange1d\"},{\"attributes\":{},\"id\":\"ef4f0a7b-52f6-4fc8-885b-b6658570df2a\",\"type\":\"BasicTicker\"},{\"attributes\":{\"plot\":{\"id\":\"5c61c417-040a-4638-915f-73ca23cee923\",\"subtype\":\"Figure\",\"type\":\"Plot\"},\"ticker\":{\"id\":\"f111f976-0aea-41fd-9bc6-abffd8f0ef3d\",\"type\":\"BasicTicker\"}},\"id\":\"4f0ba27b-5c5e-4023-a1c3-b7257b0c3b59\",\"type\":\"Grid\"},{\"attributes\":{\"formatter\":{\"id\":\"9b279e42-0dde-4e48-8ff6-af94cfcc4f40\",\"type\":\"BasicTickFormatter\"},\"plot\":{\"id\":\"3263db1d-fe6b-4c50-b9f3-1c3dbbe69a28\",\"subtype\":\"Figure\",\"type\":\"Plot\"},\"ticker\":{\"id\":\"31e2d75f-31b6-4c5b-b002-015c147be877\",\"type\":\"BasicTicker\"}},\"id\":\"24da66b7-4426-4060-971b-a1e15ff291ed\",\"type\":\"LinearAxis\"},{\"attributes\":{\"below\":[{\"id\":\"24da66b7-4426-4060-971b-a1e15ff291ed\",\"type\":\"LinearAxis\"}],\"left\":[{\"id\":\"1b853e67-b26e-41d0-881e-340267791813\",\"type\":\"LinearAxis\"}],\"plot_width\":400,\"renderers\":[{\"id\":\"24da66b7-4426-4060-971b-a1e15ff291ed\",\"type\":\"LinearAxis\"},{\"id\":\"8103362a-fcd9-4114-bc5a-525b63cb1502\",\"type\":\"Grid\"},{\"id\":\"1b853e67-b26e-41d0-881e-340267791813\",\"type\":\"LinearAxis\"},{\"id\":\"5269358b-76f1-414d-a677-7b2185f92a8f\",\"type\":\"Grid\"},{\"id\":\"3efae6d5-b7e8-4b0c-90f1-bf3bc88a8558\",\"type\":\"BoxAnnotation\"}],\"tool_events\":{\"id\":\"9bf7e65f-e0d3-43c1-80a2-59dd33e706a3\",\"type\":\"ToolEvents\"},\"tools\":[{\"id\":\"e9ea4512-177b-4e62-85e3-a36514a585ec\",\"type\":\"PanTool\"},{\"id\":\"2c26f57c-8255-4249-9913-37eb115d1543\",\"type\":\"BoxZoomTool\"}],\"x_range\":{\"id\":\"6c3864a8-fa5f-489e-a8b6-e821f17f0a16\",\"type\":\"DataRange1d\"},\"y_range\":{\"id\":\"e3501983-d316-4c65-aa4b-4d5ddf45f2bb\",\"type\":\"DataRange1d\"}},\"id\":\"3263db1d-fe6b-4c50-b9f3-1c3dbbe69a28\",\"subtype\":\"Figure\",\"type\":\"Plot\"},{\"attributes\":{\"plot\":{\"id\":\"5c61c417-040a-4638-915f-73ca23cee923\",\"subtype\":\"Figure\",\"type\":\"Plot\"}},\"id\":\"38c3d60c-adfd-4aa8-9004-567f50c16da4\",\"type\":\"PreviewSaveTool\"},{\"attributes\":{\"fill_color\":{\"value\":\"#1f77b4\"},\"line_color\":{\"value\":\"#1f77b4\"},\"x\":{\"field\":\"x\"},\"y\":{\"field\":\"y\"}},\"id\":\"bfe5b7c6-5e17-4d13-9f2d-b43c5d3ba59a\",\"type\":\"Circle\"},{\"attributes\":{},\"id\":\"83329f4e-d101-406d-81ce-db3823ac3693\",\"type\":\"BasicTickFormatter\"},{\"attributes\":{\"callback\":null},\"id\":\"7daa5b08-45f3-483f-b975-b85a65f4d178\",\"type\":\"DataRange1d\"},{\"attributes\":{\"axis_label\":\"female_literacy (% population)\",\"formatter\":{\"id\":\"9be0c495-8246-48d0-babb-ee44141423b0\",\"type\":\"BasicTickFormatter\"},\"plot\":{\"id\":\"efd3aaa8-f4c5-4dad-b32c-3d4582835523\",\"subtype\":\"Figure\",\"type\":\"Plot\"},\"ticker\":{\"id\":\"ef4f0a7b-52f6-4fc8-885b-b6658570df2a\",\"type\":\"BasicTicker\"}},\"id\":\"c7115c9a-b74d-415e-b697-5de166a197c0\",\"type\":\"LinearAxis\"},{\"attributes\":{\"plot\":{\"id\":\"332dbd63-d28e-4674-b228-2da1f9bdd921\",\"subtype\":\"Figure\",\"type\":\"Plot\"}},\"id\":\"26c72cbe-4871-4578-8935-ee28e899026c\",\"type\":\"HelpTool\"},{\"attributes\":{},\"id\":\"33ece4e0-38ef-4e20-8fd0-e50b824576da\",\"type\":\"BasicTicker\"},{\"attributes\":{},\"id\":\"1c1140c5-4ffc-4828-bfc3-87750740b79b\",\"type\":\"ToolEvents\"},{\"attributes\":{\"plot\":{\"id\":\"04f384aa-115e-4023-be4b-7ca7652b145f\",\"subtype\":\"Figure\",\"type\":\"Plot\"}},\"id\":\"13e8181e-345d-45a4-9ef4-ce0910dc3a4f\",\"type\":\"ResizeTool\"},{\"attributes\":{},\"id\":\"bab51b31-e4b2-4927-a826-46fdb2ea04a7\",\"type\":\"BasicTicker\"},{\"attributes\":{},\"id\":\"82791c86-8508-4e45-ad48-7af4ca89e692\",\"type\":\"BasicTickFormatter\"},{\"attributes\":{},\"id\":\"55f9dbc1-dd5d-4fc8-a9be-4b3b5728ec6e\",\"type\":\"BasicTicker\"},{\"attributes\":{},\"id\":\"171b7001-5189-446b-8954-ea8227eb2743\",\"type\":\"BasicTicker\"},{\"attributes\":{\"overlay\":{\"id\":\"aa8665af-b1dd-4f60-be14-c807f70b448e\",\"type\":\"BoxAnnotation\"},\"plot\":{\"id\":\"efd3aaa8-f4c5-4dad-b32c-3d4582835523\",\"subtype\":\"Figure\",\"type\":\"Plot\"}},\"id\":\"60bf72f1-f21a-4c83-8ade-32c9afa3511c\",\"type\":\"BoxZoomTool\"},{\"attributes\":{\"formatter\":{\"id\":\"58d20697-36c6-495b-8418-44d9fb52850f\",\"type\":\"BasicTickFormatter\"},\"plot\":{\"id\":\"55671300-c71f-4199-94be-094f62e7f3fb\",\"subtype\":\"Figure\",\"type\":\"Plot\"},\"ticker\":{\"id\":\"62ae9422-7e31-47f3-b445-934df56d8bce\",\"type\":\"BasicTicker\"}},\"id\":\"ad54a484-4ff8-4fc8-b766-b517fcb11732\",\"type\":\"LinearAxis\"},{\"attributes\":{\"plot\":{\"id\":\"332dbd63-d28e-4674-b228-2da1f9bdd921\",\"subtype\":\"Figure\",\"type\":\"Plot\"}},\"id\":\"e76ae0a2-f16b-45f5-b49b-ef92d6d0e701\",\"type\":\"PreviewSaveTool\"},{\"attributes\":{\"formatter\":{\"id\":\"847d46b5-4820-4b91-ac47-5751dfb9d74d\",\"type\":\"BasicTickFormatter\"},\"plot\":{\"id\":\"1719a04e-3e3b-4c34-b6fc-40eb89066d2c\",\"subtype\":\"Figure\",\"type\":\"Plot\"},\"ticker\":{\"id\":\"6f052976-58a3-4731-885e-23aff6667654\",\"type\":\"BasicTicker\"}},\"id\":\"392c04c9-88bd-42c0-9f0f-e0202d87fd6b\",\"type\":\"LinearAxis\"},{\"attributes\":{\"callback\":null,\"column_names\":[\"y\",\"x\"],\"data\":{\"x\":[1,2,4,77,5,4,4],\"y\":[4,5,6,4,3,6,7,6]}},\"id\":\"73bc97de-186d-4e21-a00e-ebdb803aa63d\",\"type\":\"ColumnDataSource\"},{\"attributes\":{\"plot\":{\"id\":\"55671300-c71f-4199-94be-094f62e7f3fb\",\"subtype\":\"Figure\",\"type\":\"Plot\"},\"ticker\":{\"id\":\"62ae9422-7e31-47f3-b445-934df56d8bce\",\"type\":\"BasicTicker\"}},\"id\":\"951e930d-3b42-4c48-a289-32564ccc5c5e\",\"type\":\"Grid\"},{\"attributes\":{\"data_source\":{\"id\":\"5555916d-5a9d-4dca-bd2c-1e3afed8a517\",\"type\":\"ColumnDataSource\"},\"glyph\":{\"id\":\"f82d07d4-c7ac-4091-b8e9-46c8a4528a24\",\"type\":\"Circle\"},\"hover_glyph\":null,\"nonselection_glyph\":{\"id\":\"b1c6610d-5d30-4e42-ae48-b2363e56fa57\",\"type\":\"Circle\"},\"selection_glyph\":null},\"id\":\"5cad33e3-2bd7-45ad-9a13-781cf680cc7f\",\"type\":\"GlyphRenderer\"},{\"attributes\":{},\"id\":\"f111f976-0aea-41fd-9bc6-abffd8f0ef3d\",\"type\":\"BasicTicker\"},{\"attributes\":{\"overlay\":{\"id\":\"71a93126-0701-44a5-993f-4f01f7ea674d\",\"type\":\"BoxAnnotation\"},\"plot\":{\"id\":\"5e2da453-14de-45ce-b945-0be28ce4822a\",\"subtype\":\"Figure\",\"type\":\"Plot\"}},\"id\":\"ca4f1b3a-6f48-44f9-9caf-528f7067ec9c\",\"type\":\"BoxZoomTool\"},{\"attributes\":{},\"id\":\"31e2d75f-31b6-4c5b-b002-015c147be877\",\"type\":\"BasicTicker\"},{\"attributes\":{\"plot\":{\"id\":\"5c61c417-040a-4638-915f-73ca23cee923\",\"subtype\":\"Figure\",\"type\":\"Plot\"}},\"id\":\"d786fa8d-2244-40c5-a8d5-549d90758659\",\"type\":\"PanTool\"},{\"attributes\":{\"plot\":{\"id\":\"eb9fee0e-58cb-4643-8d69-7fd4c1da6d28\",\"subtype\":\"Figure\",\"type\":\"Plot\"}},\"id\":\"19cb9cac-e55d-4172-ae6c-196cd51536c7\",\"type\":\"PanTool\"},{\"attributes\":{},\"id\":\"ea2fd776-bb82-4b5b-973a-3c09b18286bf\",\"type\":\"BasicTicker\"},{\"attributes\":{\"overlay\":{\"id\":\"f5ef0af4-1c78-4d16-8389-54cb387d95ae\",\"type\":\"BoxAnnotation\"},\"plot\":{\"id\":\"1719a04e-3e3b-4c34-b6fc-40eb89066d2c\",\"subtype\":\"Figure\",\"type\":\"Plot\"}},\"id\":\"7f072ed0-4bec-475e-9dba-575e44832559\",\"type\":\"BoxZoomTool\"},{\"attributes\":{\"axis_label\":\"female_literacy (% population)\",\"formatter\":{\"id\":\"8e5dfd5e-691f-4c55-84a7-1bb5a8ef1069\",\"type\":\"BasicTickFormatter\"},\"plot\":{\"id\":\"5c61c417-040a-4638-915f-73ca23cee923\",\"subtype\":\"Figure\",\"type\":\"Plot\"},\"ticker\":{\"id\":\"28d7ef27-ce16-45c4-80e3-a23bdf523881\",\"type\":\"BasicTicker\"}},\"id\":\"fdbb60b9-417f-4b0e-9f4c-cca333d984a0\",\"type\":\"LinearAxis\"},{\"attributes\":{},\"id\":\"86b6a770-8ae0-4ee9-ab02-575cbc9afcb2\",\"type\":\"BasicTickFormatter\"},{\"attributes\":{\"fill_color\":{\"value\":\"#1f77b4\"},\"line_color\":{\"value\":\"#1f77b4\"},\"x\":{\"field\":\"x\"},\"y\":{\"field\":\"y\"}},\"id\":\"7b57b540-8208-46a3-b18a-f13cf3a337ab\",\"type\":\"X\"},{\"attributes\":{\"bottom_units\":\"screen\",\"fill_alpha\":{\"value\":0.5},\"fill_color\":{\"value\":\"lightgrey\"},\"left_units\":\"screen\",\"level\":\"overlay\",\"line_alpha\":{\"value\":1.0},\"line_color\":{\"value\":\"black\"},\"line_dash\":[4,4],\"line_width\":{\"value\":2},\"plot\":null,\"render_mode\":\"css\",\"right_units\":\"screen\",\"top_units\":\"screen\"},\"id\":\"0a60e695-66d0-44db-b406-e92a8d350522\",\"type\":\"BoxAnnotation\"},{\"attributes\":{\"formatter\":{\"id\":\"ddf7dc90-02af-4e3c-b7b5-51df5cdab19f\",\"type\":\"BasicTickFormatter\"},\"plot\":{\"id\":\"eb9fee0e-58cb-4643-8d69-7fd4c1da6d28\",\"subtype\":\"Figure\",\"type\":\"Plot\"},\"ticker\":{\"id\":\"33ece4e0-38ef-4e20-8fd0-e50b824576da\",\"type\":\"BasicTicker\"}},\"id\":\"7d2ce1a0-8ec1-40be-aa97-93c905d054ca\",\"type\":\"LinearAxis\"},{\"attributes\":{\"plot\":{\"id\":\"5e2da453-14de-45ce-b945-0be28ce4822a\",\"subtype\":\"Figure\",\"type\":\"Plot\"}},\"id\":\"824a2551-cab0-46a1-8906-fbb42ae497ac\",\"type\":\"PanTool\"},{\"attributes\":{\"dimension\":1,\"plot\":{\"id\":\"5e2da453-14de-45ce-b945-0be28ce4822a\",\"subtype\":\"Figure\",\"type\":\"Plot\"},\"ticker\":{\"id\":\"bab51b31-e4b2-4927-a826-46fdb2ea04a7\",\"type\":\"BasicTicker\"}},\"id\":\"9fa74d9a-b036-4760-99cb-32d5226a4daa\",\"type\":\"Grid\"},{\"attributes\":{\"plot\":{\"id\":\"920a7fcc-ef4e-4514-bcaa-946c40f0d926\",\"subtype\":\"Figure\",\"type\":\"Plot\"},\"ticker\":{\"id\":\"c5e4687a-afd5-4efc-801c-b3bd606f650c\",\"type\":\"BasicTicker\"}},\"id\":\"c2ee9c20-0cef-4bf9-83bb-9b9be3106995\",\"type\":\"Grid\"},{\"attributes\":{\"fill_alpha\":{\"value\":0.1},\"fill_color\":{\"value\":\"#1f77b4\"},\"line_alpha\":{\"value\":0.1},\"line_color\":{\"value\":\"#1f77b4\"},\"x\":{\"field\":\"x\"},\"y\":{\"field\":\"y\"}},\"id\":\"a82c1d65-685c-48c5-afae-43e1f98cf7d8\",\"type\":\"X\"},{\"attributes\":{\"callback\":null},\"id\":\"e4cd8da0-82bb-4471-b2a2-3ae0791e2958\",\"type\":\"DataRange1d\"}],\"root_ids\":[\"7ed2b023-cb5f-4f20-9d6b-851806f98a64\",\"5e2da453-14de-45ce-b945-0be28ce4822a\",\"1719a04e-3e3b-4c34-b6fc-40eb89066d2c\",\"5c61c417-040a-4638-915f-73ca23cee923\",\"55671300-c71f-4199-94be-094f62e7f3fb\",\"332dbd63-d28e-4674-b228-2da1f9bdd921\",\"eb9fee0e-58cb-4643-8d69-7fd4c1da6d28\",\"04f384aa-115e-4023-be4b-7ca7652b145f\",\"920a7fcc-ef4e-4514-bcaa-946c40f0d926\",\"c1dd04a9-e724-4330-97f1-809957079a5b\",\"3263db1d-fe6b-4c50-b9f3-1c3dbbe69a28\",\"efd3aaa8-f4c5-4dad-b32c-3d4582835523\"]},\"title\":\"Bokeh Application\",\"version\":\"0.11.1\"}};\n",
       "            var render_items = [{\"docid\":\"0f42e4b7-209f-491a-be95-d939bac52a60\",\"elementid\":\"a9542983-7c87-458a-896b-8f64891675f6\",\"modelid\":\"efd3aaa8-f4c5-4dad-b32c-3d4582835523\",\"notebook_comms_target\":\"ed99339f-f2f4-42bd-95e3-6f03978dc285\"}];\n",
       "            \n",
       "            Bokeh.embed.embed_items(docs_json, render_items);\n",
       "        });\n",
       "      },\n",
       "      function(Bokeh) {\n",
       "      }\n",
       "    ];\n",
       "  \n",
       "    function run_inline_js() {\n",
       "      for (var i = 0; i < inline_js.length; i++) {\n",
       "        inline_js[i](window.Bokeh);\n",
       "      }\n",
       "    }\n",
       "  \n",
       "    if (window._bokeh_is_loading === 0) {\n",
       "      console.log(\"Bokeh: BokehJS loaded, going straight to plotting\");\n",
       "      run_inline_js();\n",
       "    } else {\n",
       "      load_libs(js_urls, function() {\n",
       "        console.log(\"Bokeh: BokehJS plotting callback run at\", now());\n",
       "        run_inline_js();\n",
       "      });\n",
       "    }\n",
       "  }(this));\n",
       "</script>"
      ]
     },
     "metadata": {},
     "output_type": "display_data"
    },
    {
     "data": {
      "text/html": [
       "<p><code>&lt;Bokeh Notebook handle for <strong>In[89]</strong>&gt;</code></p>"
      ],
      "text/plain": [
       "<bokeh.io._CommsHandle at 0x1b2aa630>"
      ]
     },
     "execution_count": 89,
     "metadata": {},
     "output_type": "execute_result"
    }
   ],
   "source": [
    "from bokeh.io import output_file, show\n",
    "import bokeh.plotting as bk\n",
    "from bokeh.plotting import figure \n",
    "bk.output_notebook()\n",
    "plot = figure(plot_width=400, tools ='pan,box_zoom')\n",
    "# Create the figure: p\n",
    "p = figure(x_axis_label='fertility (children per woman)', y_axis_label='female_literacy (% population)')\n",
    "\n",
    "# Add a circle glyph to the figure p\n",
    "p.circle([1,2,4,77,5,4,4], [4,5,6,4,3,6,7,6])\n",
    "\n",
    "# Add an x glyph to the figure p\n",
    "p.x([1,2,4,77,5,4,4], [4,5,6,4,3,6,7,6])\n",
    "\n",
    "# Specify the name of the file\n",
    "# output_file('fert_lit_separate.html')\n",
    "\n",
    "# Display the plot\n",
    "bk.show(p)"
   ]
  },
  {
   "cell_type": "code",
   "execution_count": null,
   "metadata": {
    "collapsed": true
   },
   "outputs": [],
   "source": [
    "def divideInTypes():\n",
    "\ttypes = {'SCT':{},'BKN':{},'OVC':{},'VV':{},'10':{},'FEW':{},'CLR':{}}\n",
    "\tfor i in tempFullDataList:\n",
    "\t\trow = str(i[7])\n",
    "\t\tif(len(row) > 3):\n",
    "\t\t\tx = i[7].split()\n",
    "\t\t\tif 'CLR:00' not in x:\n",
    "\t\t\t\tfor j in range(0,len(x),2):\n",
    "\t\t\t\t\ta = x[j].split(':')\n",
    "\t\t\t\t\tif a[0]+' '+x[j+1] in types[a[0]]:\n",
    "\t\t\t\t\t\ttypes[a[0]][a[0]+' '+x[j+1]] += 1\n",
    "\t\t\t\t\telse:\n",
    "\t\t\t\t\t\ttypes[a[0]][a[0]+' '+x[j+1]] = 1\n",
    "\treturn types\n",
    "\n",
    "\n",
    "\n"
   ]
  },
  {
   "cell_type": "code",
   "execution_count": null,
   "metadata": {
    "collapsed": true
   },
   "outputs": [],
   "source": []
  },
  {
   "cell_type": "code",
   "execution_count": null,
   "metadata": {
    "collapsed": true
   },
   "outputs": [],
   "source": [
    "def getByTimeSlots():\n",
    "    tempDic = {'slot1':[], 'slot2':[],'slot3':[],'slot4':[]}\n",
    "    for i in temp:\n",
    "        time = i[5].split()[1]\n",
    "        hour = time.split(':')\n",
    "        if(int(hour[0]) >= 0 and int(hour[0]) < 6):\n",
    "            if(int(hour[1]) >= 0 and int(hour[1]) <= 59):\n",
    "                tempDic['slot1'].append(i)\n",
    "        elif(int(hour[0]) >= 6 and int(hour[0]) < 12):\n",
    "            if(int(hour[1]) >= 0 and int(hour[1]) <= 59):\n",
    "                tempDic['slot2'].append(i)\n",
    "        elif(int(hour[0]) >= 12 and int(hour[0]) < 18):\n",
    "            if(int(hour[1]) >= 0 and int(hour[1]) <= 59):\n",
    "                tempDic['slot3'].append(i)\n",
    "        elif(int(hour[0]) >= 18 and int(hour[0]) < 24):\n",
    "            if(int(hour[1]) >= 0 and int(hour[1]) <= 59):\n",
    "                tempDic['slot4'].append(i)\n",
    "    return tempDic            \n",
    "\n",
    " \n",
    "\n",
    "        \n",
    "def seasonsExploration(tempDic):\n",
    "    seasons ={'Springslot1':[],'Summerslot1':[],'Fallslot1':[],'Springslot2':[],\n",
    "              'Summerslot2':[],'Fallslot2':[],'Springslot3':[],'Summerslot3':[],\n",
    "              'Fallslot3':[],'Springslot4':[],'Summerslot4':[],'Fallslot4':[]}\n",
    "    for t,v in tempDic.items():\n",
    "            print(t)\n",
    "            for r in v:        \n",
    "                year = r[5].split()[0]\n",
    "                month = year.split('-')\n",
    "                if(int(month[1]) >=1 and int(month[1]) <= 4):\n",
    "                    seasons['Spring'+t].append(r)\n",
    "                elif(int(month[1]) >=5 and int(month[1]) <= 8):\n",
    "                    seasons['Summer'+t].append(r)\n",
    "                elif(int(month[1]) >=9 and int(month[1]) <= 12):\n",
    "                    seasons['Fall'+t].append(r)\n",
    "    \n",
    "    for t,v in seasons.items():\n",
    "        dataf = pd.DataFrame(v)\n",
    "        dataf.to_csv(t+\".csv\")\n",
    "#   \n",
    "\n",
    "\n"
   ]
  },
  {
   "cell_type": "code",
   "execution_count": null,
   "metadata": {
    "collapsed": true
   },
   "outputs": [],
   "source": [
    "def plotGraph(x,y,typeI):\n",
    "\tplt.scatter(x, y, label=typeI)\n",
    "\tplt.show()\n",
    "    \n",
    "\n",
    "# def getlatestDateFromFile(dataframetemp):\n",
    "    \n",
    "    \n",
    "    \n",
    "\n",
    "if __name__ == '__main__':\n",
    "    x = divideInTypes()\n",
    "    print(len(x))\n",
    "    for i in x:   \n",
    "            if(i != '10'):\n",
    "                x_axis = []\n",
    "                y_axis = []\n",
    "                sorted_x = sorted(x[i].items(), key=operator.itemgetter(1))\n",
    "                for j in sorted_x:\n",
    "                    a = j[0].split()\n",
    "                    x_axis.append(int(a[1]))\n",
    "                    y_axis.append(j[1])\n",
    "                plotGraph(x_axis,y_axis,i)\n",
    "    dataframetemp = interpolateMissingData()\n",
    "    dataframetemp.to_csv('my.csv',header=True,index=False)\n",
    "    seasonsExploration(getByTimeSlots())\n",
    "    getlatestDateFromFile(dataframetemp)\n",
    "    getLatestWeekAnalysis()\n",
    "    getLastDayAnalysis()\n",
    "    getLastYearAnalyasis()\n",
    "    getLastDecadeAnalysis()\n",
    "    getLatestFileUploadedAnalysis()"
   ]
  },
  {
   "cell_type": "code",
   "execution_count": null,
   "metadata": {
    "collapsed": true
   },
   "outputs": [],
   "source": []
  },
  {
   "cell_type": "code",
   "execution_count": null,
   "metadata": {
    "collapsed": true
   },
   "outputs": [],
   "source": []
  },
  {
   "cell_type": "code",
   "execution_count": null,
   "metadata": {
    "collapsed": true
   },
   "outputs": [],
   "source": []
  },
  {
   "cell_type": "code",
   "execution_count": null,
   "metadata": {
    "collapsed": true
   },
   "outputs": [],
   "source": []
  },
  {
   "cell_type": "code",
   "execution_count": null,
   "metadata": {
    "collapsed": true
   },
   "outputs": [],
   "source": []
  },
  {
   "cell_type": "code",
   "execution_count": null,
   "metadata": {
    "collapsed": true
   },
   "outputs": [],
   "source": []
  },
  {
   "cell_type": "code",
   "execution_count": null,
   "metadata": {
    "collapsed": true
   },
   "outputs": [],
   "source": []
  },
  {
   "cell_type": "code",
   "execution_count": null,
   "metadata": {
    "collapsed": true
   },
   "outputs": [],
   "source": []
  },
  {
   "cell_type": "code",
   "execution_count": null,
   "metadata": {
    "collapsed": true
   },
   "outputs": [],
   "source": []
  }
 ],
 "metadata": {
  "celltoolbar": "Raw Cell Format",
  "kernelspec": {
   "display_name": "Python 2",
   "language": "python",
   "name": "python2"
  },
  "language_info": {
   "codemirror_mode": {
    "name": "ipython",
    "version": 2
   },
   "file_extension": ".py",
   "mimetype": "text/x-python",
   "name": "python",
   "nbconvert_exporter": "python",
   "pygments_lexer": "ipython2",
   "version": "2.7.13"
  }
 },
 "nbformat": 4,
 "nbformat_minor": 0
}
