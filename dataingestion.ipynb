{
 "cells": [
  {
   "cell_type": "code",
   "execution_count": 178,
   "metadata": {
    "collapsed": true,
    "scrolled": true
   },
   "outputs": [],
   "source": [
    "import pandas as pd\n",
    "import json\n",
    "import datetime, time\n",
    "import boto\n",
    "import boto.s3\n",
    "import sys\n",
    "from boto.s3.key import Key\n",
    "import glob\n",
    "import boto3\n",
    "import botocore\n",
    "import csv"
   ]
  },
  {
   "cell_type": "code",
   "execution_count": 179,
   "metadata": {
    "collapsed": true
   },
   "outputs": [],
   "source": [
    "ts = time.time()\n",
    "st = datetime.datetime.fromtimestamp(ts).strftime('%d%m%y%M%S')\n",
    "st1 = datetime.datetime.fromtimestamp(ts).strftime('%d%m%y')"
   ]
  },
  {
   "cell_type": "code",
   "execution_count": 180,
   "metadata": {
    "collapsed": true
   },
   "outputs": [],
   "source": [
    "# Create logfile.\n",
    "logfile = open(st+\".txt\", \"a\")\n",
    "def log_entry(s):\n",
    "    #print('Date now: %s' % datetime.datetime.now())\n",
    "\n",
    "    timestamp = '[%s] : ' % datetime.datetime.now()\n",
    "    log_line = timestamp + s + '\\n'\n",
    "    logfile.write(log_line)\n",
    "    logfile.flush()\n",
    "  "
   ]
  },
  {
   "cell_type": "code",
   "execution_count": 181,
   "metadata": {
    "collapsed": true
   },
   "outputs": [],
   "source": [
    "with open('config.json') as data_file:    \n",
    "    configdata = json.load(data_file)\n",
    "#log_entry(\"Link from config file: \"+configdata[\"link\"])\n",
    "#print(configdata[\"link\"])\n",
    "datadf=pd.read_csv(configdata[\"link1\"], sep=',', error_bad_lines=False, index_col=False, dtype='unicode')"
   ]
  },
  {
   "cell_type": "code",
   "execution_count": 182,
   "metadata": {},
   "outputs": [],
   "source": [
    "filename=configdata[\"state\"]+\"_\"+st1+\"_\"+configdata[\"StationId\"]\n",
    "datadf.to_csv(filename+\".csv\")\n",
    "log_entry(filename+\".csv has been created.\")\n"
   ]
  },
  {
   "cell_type": "code",
   "execution_count": 184,
   "metadata": {
    "scrolled": true
   },
   "outputs": [],
   "source": [
    "for counter in range(1,10):\n",
    "    datadf=pd.read_csv(configdata[\"link\"+str(counter)], sep=',', error_bad_lines=False, index_col=False, dtype='unicode')\n",
    "    datadf['DATE'] = pd.to_datetime(datadf['DATE'])\n",
    "    least_recent_date = datadf['DATE'].min()\n",
    "    recent_date = datadf['DATE'].max()  \n",
    "    "
   ]
  },
  {
   "cell_type": "code",
   "execution_count": null,
   "metadata": {},
   "outputs": [],
   "source": [
    "AWS_ACCESS_KEY_ID = configdata[\"AWSAccess\"]\n",
    "print(AWS_ACCESS_KEY_ID)\n",
    "AWS_SECRET_ACCESS_KEY = configdata[\"AWSSecret\"]\n",
    "print(AWS_SECRET_ACCESS_KEY)\n",
    "TeamNumber=configdata[\"team\"]\n",
    "\n",
    "bucket_name = str(TeamNumber) + configdata[\"state\"].lower() + 'assignment1'\n",
    "log_entry(\"S3 bucket has been successfully created.\")\n",
    "conn = boto.connect_s3(AWS_ACCESS_KEY_ID, AWS_SECRET_ACCESS_KEY)\n",
    "bucket = conn.create_bucket(bucket_name, location=boto.s3.connection.Location.DEFAULT)\n",
    "\n",
    "s3 = boto3.resource('s3', aws_access_key_id=AWS_ACCESS_KEY_ID, aws_secret_access_key=AWS_SECRET_ACCESS_KEY)\n",
    "file = filename+\".csv\"\n",
    "exists = False\n",
    "\n",
    "try:\n",
    "    s3.Object(bucket_name, file).load()\n",
    "except botocore.exceptions.ClientError as e:\n",
    "    if e.response['Error']['Code'] == \"404\":\n",
    "        exists = False\n",
    "    else:\n",
    "        raise\n",
    "else:\n",
    "    exists = True\n",
    "\n",
    "if exists==False:\n",
    "    print ('Uploading %s to Amazon S3 bucket %s' % (file, bucket_name))\n",
    "    def percent_cb(complete, total):\n",
    "        sys.stdout.write('.')\n",
    "        sys.stdout.flush()\n",
    "    k = Key(bucket)\n",
    "    k.key = file\n",
    "    k.set_contents_from_filename(file, cb=percent_cb, num_cb=10)\n",
    "    log_entry(file+\" has been uploaded to \"+bucket_name)\n",
    "    print(\"File uploaded.\")\n",
    "    \n",
    "elif exists==True:\n",
    "    print(\"File already exists.\")\n",
    "    log_entry(\"File already exists.\")"
   ]
  },
  {
   "cell_type": "code",
   "execution_count": null,
   "metadata": {
    "collapsed": true
   },
   "outputs": [],
   "source": []
  },
  {
   "cell_type": "code",
   "execution_count": null,
   "metadata": {
    "scrolled": false
   },
   "outputs": [],
   "source": [
    "datadf[:5]"
   ]
  },
  {
   "cell_type": "code",
   "execution_count": null,
   "metadata": {
    "collapsed": true
   },
   "outputs": [],
   "source": [
    "\n"
   ]
  },
  {
   "cell_type": "code",
   "execution_count": null,
   "metadata": {
    "collapsed": true
   },
   "outputs": [],
   "source": [
    "\n",
    "    "
   ]
  },
  {
   "cell_type": "code",
   "execution_count": null,
   "metadata": {
    "collapsed": true
   },
   "outputs": [],
   "source": []
  }
 ],
 "metadata": {
  "kernelspec": {
   "display_name": "Python 2",
   "language": "python",
   "name": "python2"
  },
  "language_info": {
   "codemirror_mode": {
    "name": "ipython",
    "version": 2
   },
   "file_extension": ".py",
   "mimetype": "text/x-python",
   "name": "python",
   "nbconvert_exporter": "python",
   "pygments_lexer": "ipython2",
   "version": "2.7.13"
  }
 },
 "nbformat": 4,
 "nbformat_minor": 1
}
